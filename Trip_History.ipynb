{
 "cells": [
  {
   "cell_type": "markdown",
   "metadata": {},
   "source": [
    "# 0.0 IMPORTS"
   ]
  },
  {
   "cell_type": "code",
   "execution_count": 29,
   "metadata": {
    "ExecuteTime": {
     "end_time": "2020-08-28T22:53:23.185330Z",
     "start_time": "2020-08-28T22:53:23.180344Z"
    }
   },
   "outputs": [],
   "source": [
    "import pandas                                          as pd\n",
    "import inflection\n",
    "import math\n",
    "import numpy                                           as np\n",
    "import seaborn                                         as sns\n",
    "import matplotlib.pyplot                               as plt\n",
    "import matplotlib.gridspec                             as gridspec\n",
    "\n",
    "import datetime              \n",
    "from tabulate              import tabulate\n",
    "from scipy.stats           import chi2_contingency\n",
    "from IPython.display       import Image\n",
    "from IPython.core.display  import HTML\n",
    "\n",
    "from scipy                 import stats                as ss\n",
    "from geopy.geocoders       import Nominatim\n",
    "#from geopy.distance        import geodesic\n",
    "import holidays"
   ]
  },
  {
   "cell_type": "markdown",
   "metadata": {
    "heading_collapsed": true
   },
   "source": [
    "## 0.1 Helper Function"
   ]
  },
  {
   "cell_type": "code",
   "execution_count": 2,
   "metadata": {
    "ExecuteTime": {
     "end_time": "2020-08-28T21:49:28.442840Z",
     "start_time": "2020-08-28T21:49:28.429893Z"
    },
    "hidden": true
   },
   "outputs": [],
   "source": [
    "def jupyter_settings():\n",
    "    %matplotlib inline\n",
    "    %pylab inline\n",
    "    \n",
    "    plt.style.use( 'bmh' )\n",
    "    plt.rcParams['figure.figsize'] = [25, 12]\n",
    "    plt.rcParams['font.size'] = 24\n",
    "    \n",
    "    display( HTML( '<style>.container { width:100% !important; }</style>') )\n",
    "    pd.options.display.max_columns = None\n",
    "    pd.options.display.max_rows = None\n",
    "    pd.set_option( 'display.expand_frame_repr', False )\n",
    "    \n",
    "    sns.set()\n",
    "    \n",
    "def cramer_v( x, y ):\n",
    "    cm = pd.crosstab( x, y ).values\n",
    "    n = cm.sum()\n",
    "    r, k = cm.shape\n",
    "    \n",
    "    chi2 = ss.chi2_contingency( cm )[0]\n",
    "    chi2corr = max( 0, chi2 - (k-1)*(r-1)/(n-1) )\n",
    "    \n",
    "    kcorr = k - (k-1)**2/(n-1)\n",
    "    rcorr = r - (r-1)**2/(n-1)\n",
    "    \n",
    "    return np.sqrt( (chi2corr/n) / ( min( kcorr-1, rcorr-1 ) ) )"
   ]
  },
  {
   "cell_type": "code",
   "execution_count": 3,
   "metadata": {
    "ExecuteTime": {
     "end_time": "2020-08-28T21:49:28.459827Z",
     "start_time": "2020-08-28T21:49:28.444835Z"
    },
    "hidden": true
   },
   "outputs": [
    {
     "name": "stdout",
     "output_type": "stream",
     "text": [
      "Populating the interactive namespace from numpy and matplotlib\n"
     ]
    },
    {
     "data": {
      "text/html": [
       "<style>.container { width:100% !important; }</style>"
      ],
      "text/plain": [
       "<IPython.core.display.HTML object>"
      ]
     },
     "metadata": {},
     "output_type": "display_data"
    }
   ],
   "source": [
    "jupyter_settings()"
   ]
  },
  {
   "cell_type": "markdown",
   "metadata": {
    "heading_collapsed": true
   },
   "source": [
    "## 0.2 Loading Data"
   ]
  },
  {
   "cell_type": "code",
   "execution_count": 47,
   "metadata": {
    "ExecuteTime": {
     "end_time": "2020-08-29T00:13:58.943558Z",
     "start_time": "2020-08-29T00:13:56.225739Z"
    },
    "hidden": true
   },
   "outputs": [],
   "source": [
    "df_trip_2010_raw = pd.read_csv('data/2010_tripdata.csv', low_memory=False)\n",
    "df_trip_2011_raw = pd.read_csv('data/2011_tripdata.csv', low_memory=False)\n",
    "df_trip_raw = pd.concat( [df_trip_2010_raw, df_trip_2011_raw] )"
   ]
  },
  {
   "cell_type": "code",
   "execution_count": 48,
   "metadata": {
    "ExecuteTime": {
     "end_time": "2020-08-29T00:14:01.075157Z",
     "start_time": "2020-08-29T00:14:00.873050Z"
    },
    "hidden": true
   },
   "outputs": [
    {
     "data": {
      "text/html": [
       "<div>\n",
       "<style scoped>\n",
       "    .dataframe tbody tr th:only-of-type {\n",
       "        vertical-align: middle;\n",
       "    }\n",
       "\n",
       "    .dataframe tbody tr th {\n",
       "        vertical-align: top;\n",
       "    }\n",
       "\n",
       "    .dataframe thead th {\n",
       "        text-align: right;\n",
       "    }\n",
       "</style>\n",
       "<table border=\"1\" class=\"dataframe\">\n",
       "  <thead>\n",
       "    <tr style=\"text-align: right;\">\n",
       "      <th></th>\n",
       "      <th>Duration</th>\n",
       "      <th>Start date</th>\n",
       "      <th>End date</th>\n",
       "      <th>Start station number</th>\n",
       "      <th>Start station</th>\n",
       "      <th>End station number</th>\n",
       "      <th>End station</th>\n",
       "      <th>Bike number</th>\n",
       "      <th>Member type</th>\n",
       "    </tr>\n",
       "  </thead>\n",
       "  <tbody>\n",
       "    <tr>\n",
       "      <th>165807</th>\n",
       "      <td>7005</td>\n",
       "      <td>2011-04-07 18:51:24</td>\n",
       "      <td>2011-04-07 20:48:09</td>\n",
       "      <td>31236</td>\n",
       "      <td>37th &amp; O St NW / Georgetown University</td>\n",
       "      <td>31225</td>\n",
       "      <td>C &amp; O Canal &amp; Wisconsin Ave NW</td>\n",
       "      <td>W00707</td>\n",
       "      <td>Casual</td>\n",
       "    </tr>\n",
       "    <tr>\n",
       "      <th>1200962</th>\n",
       "      <td>627</td>\n",
       "      <td>2011-12-20 04:54:47</td>\n",
       "      <td>2011-12-20 05:05:15</td>\n",
       "      <td>31618</td>\n",
       "      <td>4th &amp; East Capitol St NE</td>\n",
       "      <td>31219</td>\n",
       "      <td>10th St &amp; Constitution Ave NW</td>\n",
       "      <td>W01000</td>\n",
       "      <td>Member</td>\n",
       "    </tr>\n",
       "    <tr>\n",
       "      <th>1951</th>\n",
       "      <td>897</td>\n",
       "      <td>2010-09-25 14:25:16</td>\n",
       "      <td>2010-09-25 14:40:14</td>\n",
       "      <td>31206</td>\n",
       "      <td>19th &amp; E Street NW</td>\n",
       "      <td>31206</td>\n",
       "      <td>19th &amp; E Street NW</td>\n",
       "      <td>W00918</td>\n",
       "      <td>Casual</td>\n",
       "    </tr>\n",
       "    <tr>\n",
       "      <th>612092</th>\n",
       "      <td>1146</td>\n",
       "      <td>2011-07-20 20:10:25</td>\n",
       "      <td>2011-07-20 20:29:31</td>\n",
       "      <td>31112</td>\n",
       "      <td>Harvard St &amp; Adams Mill Rd NW</td>\n",
       "      <td>31203</td>\n",
       "      <td>14th &amp; Rhode Island Ave NW</td>\n",
       "      <td>W00128</td>\n",
       "      <td>Member</td>\n",
       "    </tr>\n",
       "    <tr>\n",
       "      <th>91922</th>\n",
       "      <td>159</td>\n",
       "      <td>2010-12-04 14:07:04</td>\n",
       "      <td>2010-12-04 14:09:43</td>\n",
       "      <td>31620</td>\n",
       "      <td>5th &amp; F St NW</td>\n",
       "      <td>31228</td>\n",
       "      <td>8th &amp; H St NW</td>\n",
       "      <td>W00538</td>\n",
       "      <td>Member</td>\n",
       "    </tr>\n",
       "  </tbody>\n",
       "</table>\n",
       "</div>"
      ],
      "text/plain": [
       "         Duration           Start date             End date  Start station number                           Start station  End station number                     End station Bike number Member type\n",
       "165807       7005  2011-04-07 18:51:24  2011-04-07 20:48:09                 31236  37th & O St NW / Georgetown University               31225  C & O Canal & Wisconsin Ave NW      W00707      Casual\n",
       "1200962       627  2011-12-20 04:54:47  2011-12-20 05:05:15                 31618                4th & East Capitol St NE               31219   10th St & Constitution Ave NW      W01000      Member\n",
       "1951          897  2010-09-25 14:25:16  2010-09-25 14:40:14                 31206                      19th & E Street NW               31206              19th & E Street NW      W00918      Casual\n",
       "612092       1146  2011-07-20 20:10:25  2011-07-20 20:29:31                 31112           Harvard St & Adams Mill Rd NW               31203      14th & Rhode Island Ave NW      W00128      Member\n",
       "91922         159  2010-12-04 14:07:04  2010-12-04 14:09:43                 31620                           5th & F St NW               31228                   8th & H St NW      W00538      Member"
      ]
     },
     "execution_count": 48,
     "metadata": {},
     "output_type": "execute_result"
    }
   ],
   "source": [
    "df_trip_raw.sample(5)"
   ]
  },
  {
   "cell_type": "markdown",
   "metadata": {
    "heading_collapsed": true
   },
   "source": [
    "# 1.0 - DESCRIPTION OF DATA"
   ]
  },
  {
   "cell_type": "code",
   "execution_count": 49,
   "metadata": {
    "ExecuteTime": {
     "end_time": "2020-08-29T00:14:05.717250Z",
     "start_time": "2020-08-29T00:14:05.584605Z"
    },
    "hidden": true
   },
   "outputs": [],
   "source": [
    "df1 = df_trip_raw.copy()"
   ]
  },
  {
   "cell_type": "markdown",
   "metadata": {
    "heading_collapsed": true,
    "hidden": true
   },
   "source": [
    "## 1.1 Rename Columns"
   ]
  },
  {
   "cell_type": "code",
   "execution_count": 50,
   "metadata": {
    "ExecuteTime": {
     "end_time": "2020-08-29T00:14:06.725775Z",
     "start_time": "2020-08-29T00:14:06.720803Z"
    },
    "hidden": true
   },
   "outputs": [
    {
     "data": {
      "text/plain": [
       "Index(['Duration', 'Start date', 'End date', 'Start station number',\n",
       "       'Start station', 'End station number', 'End station', 'Bike number',\n",
       "       'Member type'],\n",
       "      dtype='object')"
      ]
     },
     "execution_count": 50,
     "metadata": {},
     "output_type": "execute_result"
    }
   ],
   "source": [
    "df1.columns\n",
    "# I like to modify the column names in order to change all of them in lower case and underline between words. At the same time, names must be self-explanatory."
   ]
  },
  {
   "cell_type": "code",
   "execution_count": 51,
   "metadata": {
    "ExecuteTime": {
     "end_time": "2020-08-29T00:14:07.750447Z",
     "start_time": "2020-08-29T00:14:07.745461Z"
    },
    "hidden": true
   },
   "outputs": [],
   "source": [
    "cols_old = ['Duration', 'Start date', 'End date', 'Start station number', 'Start station', 'End station number', 'End station', 'Bike number', 'Member type']\n",
    "cols_old_ajusted = ['Duration', 'StartDate', 'EndDate', 'StartStationNumber', 'StartStation', 'EndStationNumber', 'EndStation', 'BikeNumber', 'MemberType']\n",
    "\n",
    "# Whats is snakecase?\n",
    "# Whats do inflection.underscore function?\n",
    "snakecase = lambda x: inflection.underscore( x )\n",
    "\n",
    "# Why I use lis?\n",
    "cols_new = list( map( snakecase, cols_old_ajusted ) )\n",
    "\n",
    "# rename\n",
    "df1.columns = cols_new"
   ]
  },
  {
   "cell_type": "code",
   "execution_count": 52,
   "metadata": {
    "ExecuteTime": {
     "end_time": "2020-08-29T00:14:08.720877Z",
     "start_time": "2020-08-29T00:14:08.712899Z"
    },
    "hidden": true
   },
   "outputs": [],
   "source": [
    "# I will add the \"index\" column to help me in dealing with some techniques of managing data like check unbalanced data.\n",
    "df1.insert(loc=0, column='id', value=df1.index)"
   ]
  },
  {
   "cell_type": "code",
   "execution_count": 53,
   "metadata": {
    "ExecuteTime": {
     "end_time": "2020-08-29T00:14:09.523648Z",
     "start_time": "2020-08-29T00:14:09.518661Z"
    },
    "hidden": true
   },
   "outputs": [
    {
     "data": {
      "text/plain": [
       "Index(['id', 'duration', 'start_date', 'end_date', 'start_station_number',\n",
       "       'start_station', 'end_station_number', 'end_station', 'bike_number',\n",
       "       'member_type'],\n",
       "      dtype='object')"
      ]
     },
     "execution_count": 53,
     "metadata": {},
     "output_type": "execute_result"
    }
   ],
   "source": [
    "df1.columns"
   ]
  },
  {
   "cell_type": "markdown",
   "metadata": {
    "heading_collapsed": true,
    "hidden": true
   },
   "source": [
    "## 1.2 Data Dimensions"
   ]
  },
  {
   "cell_type": "code",
   "execution_count": 54,
   "metadata": {
    "ExecuteTime": {
     "end_time": "2020-08-29T00:14:10.925915Z",
     "start_time": "2020-08-29T00:14:10.921926Z"
    },
    "hidden": true
   },
   "outputs": [
    {
     "name": "stdout",
     "output_type": "stream",
     "text": [
      "Number of Rows: 1342364\n",
      "Number of Cols: 10\n"
     ]
    }
   ],
   "source": [
    "print( 'Number of Rows: {}'.format( df1.shape[0] ) )\n",
    "print( 'Number of Cols: {}'.format( df1.shape[1] ) )\n",
    "# Evaluate the possibilite do use this project in your computer"
   ]
  },
  {
   "cell_type": "markdown",
   "metadata": {
    "heading_collapsed": true,
    "hidden": true
   },
   "source": [
    "## 1.3 Data Types"
   ]
  },
  {
   "cell_type": "code",
   "execution_count": 55,
   "metadata": {
    "ExecuteTime": {
     "end_time": "2020-08-29T00:14:15.096565Z",
     "start_time": "2020-08-29T00:14:15.090580Z"
    },
    "hidden": true
   },
   "outputs": [
    {
     "data": {
      "text/plain": [
       "id                       int64\n",
       "duration                 int64\n",
       "start_date              object\n",
       "end_date                object\n",
       "start_station_number     int64\n",
       "start_station           object\n",
       "end_station_number       int64\n",
       "end_station             object\n",
       "bike_number             object\n",
       "member_type             object\n",
       "dtype: object"
      ]
     },
     "execution_count": 55,
     "metadata": {},
     "output_type": "execute_result"
    }
   ],
   "source": [
    "df1.dtypes\n",
    "# Observe date. It has a different data type.\n",
    "# I will want to change the \"id\" from int to category"
   ]
  },
  {
   "cell_type": "code",
   "execution_count": 56,
   "metadata": {
    "ExecuteTime": {
     "end_time": "2020-08-29T00:14:17.383862Z",
     "start_time": "2020-08-29T00:14:15.444632Z"
    },
    "hidden": true
   },
   "outputs": [],
   "source": [
    "df1['start_date'] = pd.to_datetime( df1['start_date'] )\n",
    "df1['end_date'] = pd.to_datetime( df1['end_date'] )\n",
    "\n",
    "df1['id'] = df1['id'].apply( lambda x: str(x) )"
   ]
  },
  {
   "cell_type": "code",
   "execution_count": 57,
   "metadata": {
    "ExecuteTime": {
     "end_time": "2020-08-29T00:14:17.390692Z",
     "start_time": "2020-08-29T00:14:17.384709Z"
    },
    "hidden": true
   },
   "outputs": [
    {
     "data": {
      "text/plain": [
       "id                              object\n",
       "duration                         int64\n",
       "start_date              datetime64[ns]\n",
       "end_date                datetime64[ns]\n",
       "start_station_number             int64\n",
       "start_station                   object\n",
       "end_station_number               int64\n",
       "end_station                     object\n",
       "bike_number                     object\n",
       "member_type                     object\n",
       "dtype: object"
      ]
     },
     "execution_count": 57,
     "metadata": {},
     "output_type": "execute_result"
    }
   ],
   "source": [
    "df1.dtypes"
   ]
  },
  {
   "cell_type": "markdown",
   "metadata": {
    "heading_collapsed": true,
    "hidden": true
   },
   "source": [
    "## 1.4 Check NA"
   ]
  },
  {
   "cell_type": "code",
   "execution_count": 58,
   "metadata": {
    "ExecuteTime": {
     "end_time": "2020-08-29T00:14:17.711868Z",
     "start_time": "2020-08-29T00:14:17.392689Z"
    },
    "hidden": true
   },
   "outputs": [
    {
     "data": {
      "text/plain": [
       "id                      0\n",
       "duration                0\n",
       "start_date              0\n",
       "end_date                0\n",
       "start_station_number    0\n",
       "start_station           0\n",
       "end_station_number      0\n",
       "end_station             0\n",
       "bike_number             0\n",
       "member_type             0\n",
       "dtype: int64"
      ]
     },
     "execution_count": 58,
     "metadata": {},
     "output_type": "execute_result"
    }
   ],
   "source": [
    "df1.isna().sum()"
   ]
  },
  {
   "cell_type": "markdown",
   "metadata": {
    "heading_collapsed": true,
    "hidden": true
   },
   "source": [
    "## 1.5 Fillout NA"
   ]
  },
  {
   "cell_type": "code",
   "execution_count": 59,
   "metadata": {
    "ExecuteTime": {
     "end_time": "2020-08-29T00:14:17.716822Z",
     "start_time": "2020-08-29T00:14:17.712831Z"
    },
    "hidden": true
   },
   "outputs": [],
   "source": [
    "# There aren't NaN values to fill."
   ]
  },
  {
   "cell_type": "markdown",
   "metadata": {
    "heading_collapsed": true,
    "hidden": true
   },
   "source": [
    "## 1.6 Check Unbalanced Data"
   ]
  },
  {
   "cell_type": "code",
   "execution_count": 60,
   "metadata": {
    "ExecuteTime": {
     "end_time": "2020-08-29T00:14:18.028986Z",
     "start_time": "2020-08-29T00:14:17.873401Z"
    },
    "hidden": true
   },
   "outputs": [
    {
     "data": {
      "text/html": [
       "<div>\n",
       "<style scoped>\n",
       "    .dataframe tbody tr th:only-of-type {\n",
       "        vertical-align: middle;\n",
       "    }\n",
       "\n",
       "    .dataframe tbody tr th {\n",
       "        vertical-align: top;\n",
       "    }\n",
       "\n",
       "    .dataframe thead th {\n",
       "        text-align: right;\n",
       "    }\n",
       "</style>\n",
       "<table border=\"1\" class=\"dataframe\">\n",
       "  <thead>\n",
       "    <tr style=\"text-align: right;\">\n",
       "      <th></th>\n",
       "      <th>member_type</th>\n",
       "      <th>id</th>\n",
       "      <th>perc%</th>\n",
       "    </tr>\n",
       "  </thead>\n",
       "  <tbody>\n",
       "    <tr>\n",
       "      <th>0</th>\n",
       "      <td>Unknown</td>\n",
       "      <td>14</td>\n",
       "      <td>0.00</td>\n",
       "    </tr>\n",
       "    <tr>\n",
       "      <th>1</th>\n",
       "      <td>Casual</td>\n",
       "      <td>270950</td>\n",
       "      <td>20.18</td>\n",
       "    </tr>\n",
       "    <tr>\n",
       "      <th>2</th>\n",
       "      <td>Member</td>\n",
       "      <td>1071400</td>\n",
       "      <td>79.81</td>\n",
       "    </tr>\n",
       "  </tbody>\n",
       "</table>\n",
       "</div>"
      ],
      "text/plain": [
       "  member_type       id  perc%\n",
       "0     Unknown       14   0.00\n",
       "1      Casual   270950  20.18\n",
       "2      Member  1071400  79.81"
      ]
     },
     "execution_count": 60,
     "metadata": {},
     "output_type": "execute_result"
    }
   ],
   "source": [
    "df_balanced = df1[['id', 'member_type']].groupby( 'member_type' ).count().sort_values( 'id' ).reset_index()\n",
    "df_balanced['perc%'] = 100*np.round( ( df_balanced['id'] / np.sum( df_balanced['id'] ) ), 4 )\n",
    "df_balanced"
   ]
  },
  {
   "cell_type": "markdown",
   "metadata": {
    "heading_collapsed": true,
    "hidden": true
   },
   "source": [
    "## 1.7 Descriptive Analysis"
   ]
  },
  {
   "cell_type": "markdown",
   "metadata": {
    "heading_collapsed": true,
    "hidden": true
   },
   "source": [
    "### 1.7.1 General"
   ]
  },
  {
   "cell_type": "code",
   "execution_count": 61,
   "metadata": {
    "ExecuteTime": {
     "end_time": "2020-08-29T00:14:19.104723Z",
     "start_time": "2020-08-29T00:14:18.988501Z"
    },
    "hidden": true
   },
   "outputs": [],
   "source": [
    "num_attributes = df1.select_dtypes( include=['int64', 'float64'] )\n",
    "cat_attributes = df1.select_dtypes( exclude=['int64', 'float64', 'datetime64[ns]'] )\n",
    "time_attributes = df1.select_dtypes( include=['datetime64[ns]'] )"
   ]
  },
  {
   "cell_type": "markdown",
   "metadata": {
    "heading_collapsed": true,
    "hidden": true
   },
   "source": [
    "#### 1.7.1.1 Numerical"
   ]
  },
  {
   "cell_type": "code",
   "execution_count": 62,
   "metadata": {
    "ExecuteTime": {
     "end_time": "2020-08-29T00:14:20.634411Z",
     "start_time": "2020-08-29T00:14:19.709383Z"
    },
    "hidden": true
   },
   "outputs": [
    {
     "data": {
      "text/html": [
       "<div>\n",
       "<style scoped>\n",
       "    .dataframe tbody tr th:only-of-type {\n",
       "        vertical-align: middle;\n",
       "    }\n",
       "\n",
       "    .dataframe tbody tr th {\n",
       "        vertical-align: top;\n",
       "    }\n",
       "\n",
       "    .dataframe thead th {\n",
       "        text-align: right;\n",
       "    }\n",
       "</style>\n",
       "<table border=\"1\" class=\"dataframe\">\n",
       "  <thead>\n",
       "    <tr style=\"text-align: right;\">\n",
       "      <th></th>\n",
       "      <th>attributes</th>\n",
       "      <th>min</th>\n",
       "      <th>max</th>\n",
       "      <th>range</th>\n",
       "      <th>mean</th>\n",
       "      <th>median</th>\n",
       "      <th>std</th>\n",
       "      <th>skew</th>\n",
       "      <th>kurtosis</th>\n",
       "    </tr>\n",
       "  </thead>\n",
       "  <tbody>\n",
       "    <tr>\n",
       "      <th>0</th>\n",
       "      <td>duration</td>\n",
       "      <td>60.0</td>\n",
       "      <td>86355.0</td>\n",
       "      <td>86295.0</td>\n",
       "      <td>1186.020292</td>\n",
       "      <td>681.0</td>\n",
       "      <td>2516.315042</td>\n",
       "      <td>14.677102</td>\n",
       "      <td>341.051419</td>\n",
       "    </tr>\n",
       "    <tr>\n",
       "      <th>1</th>\n",
       "      <td>start_station_number</td>\n",
       "      <td>31000.0</td>\n",
       "      <td>31806.0</td>\n",
       "      <td>806.0</td>\n",
       "      <td>31285.376381</td>\n",
       "      <td>31219.0</td>\n",
       "      <td>192.947598</td>\n",
       "      <td>0.822809</td>\n",
       "      <td>-0.693047</td>\n",
       "    </tr>\n",
       "    <tr>\n",
       "      <th>2</th>\n",
       "      <td>end_station_number</td>\n",
       "      <td>31000.0</td>\n",
       "      <td>31806.0</td>\n",
       "      <td>806.0</td>\n",
       "      <td>31286.714433</td>\n",
       "      <td>31219.0</td>\n",
       "      <td>192.034328</td>\n",
       "      <td>0.840482</td>\n",
       "      <td>-0.665674</td>\n",
       "    </tr>\n",
       "  </tbody>\n",
       "</table>\n",
       "</div>"
      ],
      "text/plain": [
       "             attributes      min      max    range          mean   median          std       skew    kurtosis\n",
       "0              duration     60.0  86355.0  86295.0   1186.020292    681.0  2516.315042  14.677102  341.051419\n",
       "1  start_station_number  31000.0  31806.0    806.0  31285.376381  31219.0   192.947598   0.822809   -0.693047\n",
       "2    end_station_number  31000.0  31806.0    806.0  31286.714433  31219.0   192.034328   0.840482   -0.665674"
      ]
     },
     "execution_count": 62,
     "metadata": {},
     "output_type": "execute_result"
    }
   ],
   "source": [
    "# Central Tendency\n",
    "ct1 = pd.DataFrame( num_attributes.apply( np.mean ) ).T\n",
    "ct2 = pd.DataFrame( num_attributes.apply( np.median ) ).T\n",
    "\n",
    "# Dispersion\n",
    "d1 = pd.DataFrame( num_attributes.apply( np.std ) ).T\n",
    "d2 = pd.DataFrame( num_attributes.apply( min ) ).T\n",
    "d3 = pd.DataFrame( num_attributes.apply( max ) ).T\n",
    "d4 = pd.DataFrame( num_attributes.apply( lambda x: x.max() - x.min() ) ).T\n",
    "d5 = pd.DataFrame( num_attributes.apply( lambda x: x.skew() ) ).T\n",
    "d6 = pd.DataFrame( num_attributes.apply( lambda x: x.kurtosis() ) ).T\n",
    "\n",
    "# Concatenar\n",
    "ct = pd.concat( [d2, d3, d4, ct1, ct2, d1, d5, d6] ).T.reset_index()\n",
    "ct.columns = ['attributes', 'min', 'max', 'range', 'mean', 'median', 'std', 'skew', 'kurtosis']\n",
    "ct"
   ]
  },
  {
   "cell_type": "markdown",
   "metadata": {
    "heading_collapsed": true,
    "hidden": true
   },
   "source": [
    "#### 1.7.1.2 Categorical"
   ]
  },
  {
   "cell_type": "code",
   "execution_count": 63,
   "metadata": {
    "ExecuteTime": {
     "end_time": "2020-08-29T00:14:21.245552Z",
     "start_time": "2020-08-29T00:14:20.635408Z"
    },
    "hidden": true
   },
   "outputs": [
    {
     "data": {
      "text/html": [
       "<div>\n",
       "<style scoped>\n",
       "    .dataframe tbody tr th:only-of-type {\n",
       "        vertical-align: middle;\n",
       "    }\n",
       "\n",
       "    .dataframe tbody tr th {\n",
       "        vertical-align: top;\n",
       "    }\n",
       "\n",
       "    .dataframe thead th {\n",
       "        text-align: right;\n",
       "    }\n",
       "</style>\n",
       "<table border=\"1\" class=\"dataframe\">\n",
       "  <thead>\n",
       "    <tr style=\"text-align: right;\">\n",
       "      <th></th>\n",
       "      <th>start_station</th>\n",
       "      <th>end_station</th>\n",
       "      <th>bike_number</th>\n",
       "      <th>member_type</th>\n",
       "    </tr>\n",
       "  </thead>\n",
       "  <tbody>\n",
       "    <tr>\n",
       "      <th>count</th>\n",
       "      <td>1342364</td>\n",
       "      <td>1342364</td>\n",
       "      <td>1342364</td>\n",
       "      <td>1342364</td>\n",
       "    </tr>\n",
       "    <tr>\n",
       "      <th>unique</th>\n",
       "      <td>144</td>\n",
       "      <td>144</td>\n",
       "      <td>1341</td>\n",
       "      <td>3</td>\n",
       "    </tr>\n",
       "    <tr>\n",
       "      <th>top</th>\n",
       "      <td>Massachusetts Ave &amp; Dupont Circle NW</td>\n",
       "      <td>Massachusetts Ave &amp; Dupont Circle NW</td>\n",
       "      <td>W00856</td>\n",
       "      <td>Member</td>\n",
       "    </tr>\n",
       "    <tr>\n",
       "      <th>freq</th>\n",
       "      <td>54186</td>\n",
       "      <td>59513</td>\n",
       "      <td>1755</td>\n",
       "      <td>1071400</td>\n",
       "    </tr>\n",
       "  </tbody>\n",
       "</table>\n",
       "</div>"
      ],
      "text/plain": [
       "                               start_station                           end_station bike_number member_type\n",
       "count                                1342364                               1342364     1342364     1342364\n",
       "unique                                   144                                   144        1341           3\n",
       "top     Massachusetts Ave & Dupont Circle NW  Massachusetts Ave & Dupont Circle NW      W00856      Member\n",
       "freq                                   54186                                 59513        1755     1071400"
      ]
     },
     "execution_count": 63,
     "metadata": {},
     "output_type": "execute_result"
    }
   ],
   "source": [
    "cat_attributes.drop( 'id', axis=1 ).describe()"
   ]
  },
  {
   "cell_type": "markdown",
   "metadata": {
    "heading_collapsed": true,
    "hidden": true
   },
   "source": [
    "### 1.7.2 Classes Oriented"
   ]
  },
  {
   "cell_type": "markdown",
   "metadata": {
    "heading_collapsed": true,
    "hidden": true
   },
   "source": [
    "#### 1.7.2.1 Numerical"
   ]
  },
  {
   "cell_type": "code",
   "execution_count": 64,
   "metadata": {
    "ExecuteTime": {
     "end_time": "2020-08-29T00:14:22.505446Z",
     "start_time": "2020-08-29T00:14:21.876862Z"
    },
    "hidden": true
   },
   "outputs": [
    {
     "data": {
      "text/html": [
       "<div>\n",
       "<style scoped>\n",
       "    .dataframe tbody tr th:only-of-type {\n",
       "        vertical-align: middle;\n",
       "    }\n",
       "\n",
       "    .dataframe tbody tr th {\n",
       "        vertical-align: top;\n",
       "    }\n",
       "\n",
       "    .dataframe thead th {\n",
       "        text-align: right;\n",
       "    }\n",
       "</style>\n",
       "<table border=\"1\" class=\"dataframe\">\n",
       "  <thead>\n",
       "    <tr style=\"text-align: right;\">\n",
       "      <th></th>\n",
       "      <th>duration_min</th>\n",
       "      <th>duration_max</th>\n",
       "      <th>duration_mean</th>\n",
       "      <th>duration_median</th>\n",
       "      <th>duration_range</th>\n",
       "      <th>duration_skew</th>\n",
       "      <th>duration_kurtosis</th>\n",
       "      <th>start_station_number_min</th>\n",
       "      <th>start_station_number_max</th>\n",
       "      <th>start_station_number_mean</th>\n",
       "      <th>start_station_number_median</th>\n",
       "      <th>start_station_number_range</th>\n",
       "      <th>start_station_number_skew</th>\n",
       "      <th>start_station_number_kurtosis</th>\n",
       "      <th>end_station_numberr_min</th>\n",
       "      <th>end_station_number_max</th>\n",
       "      <th>end_station_number_mean</th>\n",
       "      <th>end_station_number_median</th>\n",
       "      <th>end_station_number_range</th>\n",
       "      <th>end_station_number_skew</th>\n",
       "      <th>end_station_number_kurtosis</th>\n",
       "    </tr>\n",
       "    <tr>\n",
       "      <th>member_type</th>\n",
       "      <th></th>\n",
       "      <th></th>\n",
       "      <th></th>\n",
       "      <th></th>\n",
       "      <th></th>\n",
       "      <th></th>\n",
       "      <th></th>\n",
       "      <th></th>\n",
       "      <th></th>\n",
       "      <th></th>\n",
       "      <th></th>\n",
       "      <th></th>\n",
       "      <th></th>\n",
       "      <th></th>\n",
       "      <th></th>\n",
       "      <th></th>\n",
       "      <th></th>\n",
       "      <th></th>\n",
       "      <th></th>\n",
       "      <th></th>\n",
       "      <th></th>\n",
       "    </tr>\n",
       "  </thead>\n",
       "  <tbody>\n",
       "    <tr>\n",
       "      <th>Casual</th>\n",
       "      <td>61</td>\n",
       "      <td>86337</td>\n",
       "      <td>2818.136125</td>\n",
       "      <td>1451</td>\n",
       "      <td>86276</td>\n",
       "      <td>8.078695</td>\n",
       "      <td>108.375829</td>\n",
       "      <td>31000</td>\n",
       "      <td>31806</td>\n",
       "      <td>31271.451187</td>\n",
       "      <td>31220.0</td>\n",
       "      <td>806</td>\n",
       "      <td>1.061437</td>\n",
       "      <td>0.081252</td>\n",
       "      <td>31000</td>\n",
       "      <td>31805</td>\n",
       "      <td>31271.944971</td>\n",
       "      <td>31219</td>\n",
       "      <td>805</td>\n",
       "      <td>1.088322</td>\n",
       "      <td>0.127234</td>\n",
       "    </tr>\n",
       "    <tr>\n",
       "      <th>Member</th>\n",
       "      <td>60</td>\n",
       "      <td>86355</td>\n",
       "      <td>773.274534</td>\n",
       "      <td>596</td>\n",
       "      <td>86295</td>\n",
       "      <td>29.857263</td>\n",
       "      <td>1178.366262</td>\n",
       "      <td>31000</td>\n",
       "      <td>31806</td>\n",
       "      <td>31288.898870</td>\n",
       "      <td>31219.0</td>\n",
       "      <td>806</td>\n",
       "      <td>0.768298</td>\n",
       "      <td>-0.838357</td>\n",
       "      <td>31000</td>\n",
       "      <td>31806</td>\n",
       "      <td>31290.451235</td>\n",
       "      <td>31219</td>\n",
       "      <td>806</td>\n",
       "      <td>0.783851</td>\n",
       "      <td>-0.814061</td>\n",
       "    </tr>\n",
       "    <tr>\n",
       "      <th>Unknown</th>\n",
       "      <td>168</td>\n",
       "      <td>2477</td>\n",
       "      <td>758.857143</td>\n",
       "      <td>413</td>\n",
       "      <td>2309</td>\n",
       "      <td>1.602714</td>\n",
       "      <td>1.460630</td>\n",
       "      <td>31010</td>\n",
       "      <td>31620</td>\n",
       "      <td>31216.571429</td>\n",
       "      <td>31216.5</td>\n",
       "      <td>610</td>\n",
       "      <td>1.161179</td>\n",
       "      <td>1.214685</td>\n",
       "      <td>31003</td>\n",
       "      <td>31302</td>\n",
       "      <td>31156.428571</td>\n",
       "      <td>31209</td>\n",
       "      <td>299</td>\n",
       "      <td>-0.613007</td>\n",
       "      <td>-1.316036</td>\n",
       "    </tr>\n",
       "  </tbody>\n",
       "</table>\n",
       "</div>"
      ],
      "text/plain": [
       "             duration_min  duration_max  duration_mean  duration_median  duration_range  duration_skew  duration_kurtosis  start_station_number_min  start_station_number_max  start_station_number_mean  start_station_number_median  start_station_number_range  start_station_number_skew  start_station_number_kurtosis  end_station_numberr_min  end_station_number_max  end_station_number_mean  end_station_number_median  end_station_number_range  end_station_number_skew  end_station_number_kurtosis\n",
       "member_type                                                                                                                                                                                                                                                                                                                                                                                                                                                                                                     \n",
       "Casual                 61         86337    2818.136125             1451           86276       8.078695         108.375829                     31000                     31806               31271.451187                      31220.0                         806                   1.061437                       0.081252                    31000                   31805             31271.944971                      31219                       805                 1.088322                     0.127234\n",
       "Member                 60         86355     773.274534              596           86295      29.857263        1178.366262                     31000                     31806               31288.898870                      31219.0                         806                   0.768298                      -0.838357                    31000                   31806             31290.451235                      31219                       806                 0.783851                    -0.814061\n",
       "Unknown               168          2477     758.857143              413            2309       1.602714           1.460630                     31010                     31620               31216.571429                      31216.5                         610                   1.161179                       1.214685                    31003                   31302             31156.428571                      31209                       299                -0.613007                    -1.316036"
      ]
     },
     "execution_count": 64,
     "metadata": {},
     "output_type": "execute_result"
    }
   ],
   "source": [
    "aux = df1[['duration', 'start_station_number', 'end_station_number', 'member_type']].groupby( 'member_type' ).agg( \n",
    "        duration_min      = ('duration', 'min'), \n",
    "        duration_max      = ('duration', 'max'),\n",
    "        duration_mean     = ('duration', 'mean'),\n",
    "        duration_median   = ('duration', 'median'),\n",
    "        duration_range    = ('duration', lambda x: x.max() - x.min() ),\n",
    "        duration_skew     = ('duration', lambda x: x.skew() ),\n",
    "        duration_kurtosis = ( 'duration', lambda x: x.kurtosis() ),\n",
    "        start_station_number_min    =   ('start_station_number', 'min'), \n",
    "        start_station_number_max    =   ('start_station_number', 'max'),\n",
    "        start_station_number_mean   =   ('start_station_number', 'mean'),\n",
    "        start_station_number_median =   ('start_station_number', 'median'),\n",
    "        start_station_number_range  =   ('start_station_number', lambda x: x.max() - x.min() ),\n",
    "        start_station_number_skew   =   ('start_station_number', lambda x: x.skew() ),\n",
    "        start_station_number_kurtosis = ( 'start_station_number', lambda x: x.kurtosis() ),\n",
    "        end_station_numberr_min    =   ('end_station_number', 'min'), \n",
    "        end_station_number_max    =   ('end_station_number', 'max'),\n",
    "        end_station_number_mean   =   ('end_station_number', 'mean'),\n",
    "        end_station_number_median =   ('end_station_number', 'median'),\n",
    "        end_station_number_range  =   ('end_station_number', lambda x: x.max() - x.min() ),\n",
    "        end_station_number_skew   =   ('end_station_number', lambda x: x.skew() ),\n",
    "        end_station_number_kurtosis = ( 'end_station_number', lambda x: x.kurtosis() ) )\n",
    "\n",
    "# show table\n",
    "aux"
   ]
  },
  {
   "cell_type": "markdown",
   "metadata": {
    "heading_collapsed": true,
    "hidden": true
   },
   "source": [
    "#### 1.7.2.2 Categorical"
   ]
  },
  {
   "cell_type": "code",
   "execution_count": 65,
   "metadata": {
    "ExecuteTime": {
     "end_time": "2020-08-29T00:14:23.786903Z",
     "start_time": "2020-08-29T00:14:23.126903Z"
    },
    "hidden": true
   },
   "outputs": [
    {
     "data": {
      "text/html": [
       "<div>\n",
       "<style scoped>\n",
       "    .dataframe tbody tr th:only-of-type {\n",
       "        vertical-align: middle;\n",
       "    }\n",
       "\n",
       "    .dataframe tbody tr th {\n",
       "        vertical-align: top;\n",
       "    }\n",
       "\n",
       "    .dataframe thead tr th {\n",
       "        text-align: left;\n",
       "    }\n",
       "\n",
       "    .dataframe thead tr:last-of-type th {\n",
       "        text-align: right;\n",
       "    }\n",
       "</style>\n",
       "<table border=\"1\" class=\"dataframe\">\n",
       "  <thead>\n",
       "    <tr>\n",
       "      <th></th>\n",
       "      <th colspan=\"4\" halign=\"left\">start_station</th>\n",
       "      <th colspan=\"4\" halign=\"left\">end_station</th>\n",
       "      <th colspan=\"4\" halign=\"left\">bike_number</th>\n",
       "    </tr>\n",
       "    <tr>\n",
       "      <th></th>\n",
       "      <th>count</th>\n",
       "      <th>unique</th>\n",
       "      <th>top</th>\n",
       "      <th>freq</th>\n",
       "      <th>count</th>\n",
       "      <th>unique</th>\n",
       "      <th>top</th>\n",
       "      <th>freq</th>\n",
       "      <th>count</th>\n",
       "      <th>unique</th>\n",
       "      <th>top</th>\n",
       "      <th>freq</th>\n",
       "    </tr>\n",
       "    <tr>\n",
       "      <th>member_type</th>\n",
       "      <th></th>\n",
       "      <th></th>\n",
       "      <th></th>\n",
       "      <th></th>\n",
       "      <th></th>\n",
       "      <th></th>\n",
       "      <th></th>\n",
       "      <th></th>\n",
       "      <th></th>\n",
       "      <th></th>\n",
       "      <th></th>\n",
       "      <th></th>\n",
       "    </tr>\n",
       "  </thead>\n",
       "  <tbody>\n",
       "    <tr>\n",
       "      <th>Casual</th>\n",
       "      <td>270950</td>\n",
       "      <td>140</td>\n",
       "      <td>Massachusetts Ave &amp; Dupont Circle NW</td>\n",
       "      <td>12104</td>\n",
       "      <td>270950</td>\n",
       "      <td>139</td>\n",
       "      <td>USDA / 12th &amp; Independence Ave SW</td>\n",
       "      <td>14632</td>\n",
       "      <td>270950</td>\n",
       "      <td>1332</td>\n",
       "      <td>W00726</td>\n",
       "      <td>371</td>\n",
       "    </tr>\n",
       "    <tr>\n",
       "      <th>Member</th>\n",
       "      <td>1071400</td>\n",
       "      <td>143</td>\n",
       "      <td>Massachusetts Ave &amp; Dupont Circle NW</td>\n",
       "      <td>42082</td>\n",
       "      <td>1071400</td>\n",
       "      <td>144</td>\n",
       "      <td>Massachusetts Ave &amp; Dupont Circle NW</td>\n",
       "      <td>46959</td>\n",
       "      <td>1071400</td>\n",
       "      <td>1340</td>\n",
       "      <td>W00893</td>\n",
       "      <td>1432</td>\n",
       "    </tr>\n",
       "    <tr>\n",
       "      <th>Unknown</th>\n",
       "      <td>14</td>\n",
       "      <td>10</td>\n",
       "      <td>23rd &amp; Crystal Dr</td>\n",
       "      <td>3</td>\n",
       "      <td>14</td>\n",
       "      <td>12</td>\n",
       "      <td>Crystal City Metro / 18th &amp; Bell St</td>\n",
       "      <td>2</td>\n",
       "      <td>14</td>\n",
       "      <td>14</td>\n",
       "      <td>W01070</td>\n",
       "      <td>1</td>\n",
       "    </tr>\n",
       "  </tbody>\n",
       "</table>\n",
       "</div>"
      ],
      "text/plain": [
       "            start_station                                                     end_station                                                     bike_number                     \n",
       "                    count unique                                   top   freq       count unique                                   top   freq       count unique     top  freq\n",
       "member_type                                                                                                                                                                   \n",
       "Casual             270950    140  Massachusetts Ave & Dupont Circle NW  12104      270950    139     USDA / 12th & Independence Ave SW  14632      270950   1332  W00726   371\n",
       "Member            1071400    143  Massachusetts Ave & Dupont Circle NW  42082     1071400    144  Massachusetts Ave & Dupont Circle NW  46959     1071400   1340  W00893  1432\n",
       "Unknown                14     10                     23rd & Crystal Dr      3          14     12   Crystal City Metro / 18th & Bell St      2          14     14  W01070     1"
      ]
     },
     "execution_count": 65,
     "metadata": {},
     "output_type": "execute_result"
    }
   ],
   "source": [
    "cat_attributes.drop( 'id', axis=1 ).groupby( 'member_type' ).describe()"
   ]
  },
  {
   "cell_type": "markdown",
   "metadata": {
    "heading_collapsed": true,
    "hidden": true
   },
   "source": [
    "### 1.7.3 Predictors and Class Correlation"
   ]
  },
  {
   "cell_type": "code",
   "execution_count": 66,
   "metadata": {
    "ExecuteTime": {
     "end_time": "2020-08-29T00:14:31.139403Z",
     "start_time": "2020-08-29T00:14:23.932481Z"
    },
    "hidden": true
   },
   "outputs": [
    {
     "data": {
      "text/plain": [
       "<matplotlib.axes._subplots.AxesSubplot at 0x1718b495048>"
      ]
     },
     "execution_count": 66,
     "metadata": {},
     "output_type": "execute_result"
    },
    {
     "data": {
      "image/png": "[encoded data removed]",
      "text/plain": [
       "<Figure size 1800x864 with 2 Axes>"
      ]
     },
     "metadata": {},
     "output_type": "display_data"
    }
   ],
   "source": [
    "# list of categorical attributes\n",
    "cat_attributes_list = cat_attributes.drop( 'id', axis=1 ).columns.tolist()\n",
    "\n",
    "corr_dict = {}\n",
    "for i in range( len( cat_attributes_list ) ):\n",
    "    corr_list = []\n",
    "    for j in range( len( cat_attributes_list ) ):\n",
    "        #print( 'Ref: {} - Feat: {}'.format( cat_attributes_list[i], cat_attributes_list[j] ) )\n",
    "        ref = cat_attributes_list[i]\n",
    "        feat = cat_attributes_list[j]\n",
    "        \n",
    "        # correlation between two categorical variables\n",
    "        corr = cramer_v( cat_attributes[ ref ], cat_attributes[ feat ] )\n",
    "        \n",
    "        # append to a list\n",
    "        corr_list.append( corr )\n",
    "        \n",
    "    # append the correlation list for each ref attributes\n",
    "    corr_dict[ref] = corr_list\n",
    "\n",
    "d = pd.DataFrame( corr_dict )\n",
    "d = d.set_index( d.columns )\n",
    "sns.heatmap( d, annot=True )"
   ]
  },
  {
   "cell_type": "markdown",
   "metadata": {},
   "source": [
    "# 2.0 FEATURE ENGINEERING"
   ]
  },
  {
   "cell_type": "code",
   "execution_count": 67,
   "metadata": {
    "ExecuteTime": {
     "end_time": "2020-08-29T00:14:31.218199Z",
     "start_time": "2020-08-29T00:14:31.140398Z"
    }
   },
   "outputs": [],
   "source": [
    "df2 = df1.copy()"
   ]
  },
  {
   "cell_type": "code",
   "execution_count": 68,
   "metadata": {
    "ExecuteTime": {
     "end_time": "2020-08-29T00:14:31.226169Z",
     "start_time": "2020-08-29T00:14:31.219187Z"
    }
   },
   "outputs": [
    {
     "data": {
      "image/png": "[encoded data removed]",
      "text/plain": [
       "<IPython.core.display.Image object>"
      ]
     },
     "execution_count": 68,
     "metadata": {},
     "output_type": "execute_result"
    }
   ],
   "source": [
    "Image( \"image/Hyphoteses_Map.png\")"
   ]
  },
  {
   "cell_type": "markdown",
   "metadata": {
    "heading_collapsed": true
   },
   "source": [
    "## 2.1 Creation of Hypotheses"
   ]
  },
  {
   "cell_type": "markdown",
   "metadata": {
    "heading_collapsed": true,
    "hidden": true
   },
   "source": [
    "### 2.1.1 Locality Hyphoteses"
   ]
  },
  {
   "cell_type": "markdown",
   "metadata": {
    "hidden": true
   },
   "source": [
    "**1.** Casual users should be in places with higher crime.\n",
    "\n",
    "**2.** Member users must travel greater distances.\n",
    "\n",
    "**3.** Casual users should use the bike in steep reliefs.\n",
    "\n",
    "**4.** Casual users should be present in greater numbers in places with more infrastructure."
   ]
  },
  {
   "cell_type": "markdown",
   "metadata": {
    "heading_collapsed": true,
    "hidden": true
   },
   "source": [
    "### 2.1.2 Time Hyphoteses"
   ]
  },
  {
   "cell_type": "markdown",
   "metadata": {
    "hidden": true
   },
   "source": [
    "**1.** Casual users should use more on holidays.\n",
    "\n",
    "**2.** Member users should use more on weekdays.\n",
    "\n",
    "**3.** Member users should use it consistently over the months.\n",
    "\n",
    "**4.** Casual users should have longer travel times.\n",
    "\n",
    "**5.** Member users should use more during daylight hours.\n",
    "\n",
    "**6.** The use of casual users must have increased over the years.\n",
    "\n",
    "**7.** Member users should use more in the early hours of the day and in the late afternoon. "
   ]
  },
  {
   "cell_type": "markdown",
   "metadata": {
    "heading_collapsed": true,
    "hidden": true
   },
   "source": [
    "### 2.1.3 Clime Hyphoteses"
   ]
  },
  {
   "cell_type": "markdown",
   "metadata": {
    "hidden": true
   },
   "source": [
    "**1.** Member users should use more with high humidity.\n",
    "\n",
    "**2.** Casual users should use less during rainy seasons.\n",
    "\n",
    "**3.** Member users should use more with high temperature.\n",
    "\n",
    "**4.** Casual users should use more in the summer seasons."
   ]
  },
  {
   "cell_type": "markdown",
   "metadata": {
    "heading_collapsed": true,
    "hidden": true
   },
   "source": [
    "### 2.1.4 User Hyphoteses"
   ]
  },
  {
   "cell_type": "markdown",
   "metadata": {
    "hidden": true
   },
   "source": [
    "**1.** Member users must use more to work.\n",
    "\n",
    "**2.** Member users should be more present in high school students.\n",
    "\n",
    "**3.** Casual users should mostly have a driver's license.\n",
    "\n",
    "**4.** Member users should be in better physical condition.\n",
    "\n",
    "**5.** Casual users should be mostly men.\n",
    "\n",
    "**6.** Member users must be mostly young.\n",
    "\n",
    "**7.** Member users must not have trauma.\n",
    "\n",
    "**8.** Member users must not have a good financial condition."
   ]
  },
  {
   "cell_type": "markdown",
   "metadata": {
    "heading_collapsed": true
   },
   "source": [
    "## 2.2 Final List of Hyphoteses"
   ]
  },
  {
   "cell_type": "markdown",
   "metadata": {
    "hidden": true
   },
   "source": [
    "**1.** Member users must travel greater distances.\n",
    "\n",
    "**2.** Casual users should use the bike in steep reliefs.\n",
    "\n",
    "**3.** Casual users should use more on holidays.\n",
    "\n",
    "**4.** Member users should use more on weekdays.\n",
    "\n",
    "**5.** Member users should use it consistently over the months.\n",
    "\n",
    "**6.** Casual users should have longer travel times.\n",
    "\n",
    "**7.** Member users should use more during daylight hours.\n",
    "\n",
    "**8.** The use of casual users must have increased over the years.\n",
    "\n",
    "**9.** Member users should use more in the early hours of the day and in the late afternoon.\n",
    "\n",
    "**10.** Casual users should use more in the summer seasons."
   ]
  },
  {
   "cell_type": "markdown",
   "metadata": {},
   "source": [
    "## 2.3 Create New Features"
   ]
  },
  {
   "cell_type": "code",
   "execution_count": null,
   "metadata": {
    "ExecuteTime": {
     "start_time": "2020-08-29T00:17:45.541Z"
    }
   },
   "outputs": [],
   "source": [
    "# year:\n",
    "df2['year'] = df2['start_date'].dt.year\n",
    "\n",
    "# month:\n",
    "df2['month'] = df2['start_date'].dt.month\n",
    "\n",
    "# day:\n",
    "df2['day'] = df2['start_date'].dt.day\n",
    "\n",
    "# day_of_week:\n",
    "# 0 - Monday\n",
    "# 1 - Tuesday\n",
    "# 2 - Wednesday\n",
    "# 3 - Thursday\n",
    "# 4 - Friday\n",
    "# 5 - Saturday\n",
    "# 6 - Sunday\n",
    "df2['day_of_week'] = df2['start_date'].dt.weekday\n",
    "\n",
    "# holiday:\n",
    "# I will use the \"holidays\" library to identify whether the date represents a holiday. An idea for a next cycle in the project is to differentiate, according to some rule, the different dates of the holidays.\n",
    "# The documentation of this librarie is in this link: https://pypi.org/project/holidays/\n",
    "# Another rule that I will use is to consider the eve of the dates as a \"holiday\".\n",
    "df2['holidays'] = df2['start_date'].apply( lambda x: 'Holiday' if x in holidays.US() else 'Holiday' if x + datetime.timedelta(days=1) in holidays.US() else 'Normal day' )\n",
    "\n",
    "# hour_of_day:\n",
    "df2['hour_of_day'] = (df2['start_date'].dt.hour + df2['start_date'].dt.minute)/60.0\n",
    "\n",
    "# season:\n",
    "# - Winter -> December (12), January (01) and February (02);\n",
    "# - Spring -> March (03), April (04) and May (05);\n",
    "# - Summer -> Jun (06), July (07) and August (08);\n",
    "# - Autumn -> September (09), October (10) and November (11).\n",
    "df2['season'] = df2['start_date'].apply( lambda x: 'Winter' if x.month == 12 or x.month == 1 or x.month == 2 else 'Spring' if  x.month == 3 or x.month == 4 or x.month == 5 else 'Summer' if  x.month == 6 or x.month == 7 or x.month == 8 else 'Autumn' if  x.month == 9 or x.month == 10 or x.month == 11 else '')\n",
    "\n",
    "# distance\n",
    "# I will use the \"geopy\" library which uses the address, from start and end station, to find its latitude and longitude. After that I will calculate the distance between them.\n",
    "# The documentation of this librarie is in this link: https://nominatim.org/release-docs/develop/api/Output/\n",
    "geolocator = Nominatim(user_agent=\"trip_history\")\n",
    "\n",
    "df2['start_station_latitude'] = df2['start_station'].apply( lambda x: geolocator.geocode(x, timeout=10).latitude if geolocator.geocode(x, timeout=10) != None else 'NF' )\n",
    "df2['start_station_longitude'] = df2['start_station'].apply( lambda x: geolocator.geocode(x, timeout=10).longitude if geolocator.geocode(x, timeout=10) != None else 'NF' )\n",
    "\n",
    "df2['end_station_latitude'] = df2['end_station'].apply( lambda x: geolocator.geocode(x, timeout=10).latitude if geolocator.geocode(x, timeout=10) != None else 'NF' )\n",
    "df2['end_station_longitude'] = df2['end_station'].apply( lambda x: geolocator.geocode(x, timeout=10).longitude if geolocator.geocode(x, timeout=10) != None else 'NF' )\n",
    "\n",
    "df2['distance'] = df2.apply( lambda x: geodesic( (x['start_station_latitude'], x['start_station_longitude']), (x['end_station_latitude'], x['end_station_longitude']) ).miles )\n",
    "\n",
    "# altitude\n",
    "# I will use the \"geopy\" library which uses the address, from start and end station, to find its altitude. After that I will calculate the difference between them.\n",
    "# The documentation of this librarie is in this link: https://nominatim.org/release-docs/develop/api/Output/\n",
    "df2['start_station_altitude'] = df2['start_station'].apply( lambda x: geolocator.geocode(x, timeout=10).altitude if geolocator.geocode(x, timeout=10) != None else 'NF' )\n",
    "\n",
    "df2['end_station_altitude'] = df2['end_station'].apply( lambda x: geolocator.geocode(x, timeout=10).altitude if geolocator.geocode(x, timeout=10) != None else 'NF' )\n",
    "\n",
    "df2['altitude'] = df2.apply( lambda x: x['end_station_altitude'] - x['start_station_altitude'] )\n",
    "\n",
    "# distance\n",
    "# I will use the \"geopy\" library which uses the address, from start and end station, to find its latitude and longitude. After that I will calculate the distance between them.\n",
    "# The documentation of this librarie is in this link: https://nominatim.org/release-docs/develop/api/Output/\n",
    "geolocator = Nominatim(user_agent=\"trip_history\")\n",
    "\n",
    "df2['start_station_latitude'] = df2['start_station'].apply( lambda x: geolocator.geocode(x, timeout=10).latitude if geolocator.geocode(x, timeout=10) != None else 'NF' )\n",
    "df2['start_station_longitude'] = df2['start_station'].apply( lambda x: geolocator.geocode(x, timeout=10).longitude if geolocator.geocode(x, timeout=10) != None else 'NF' )\n",
    "\n",
    "df2['end_station_latitude'] = df2['end_station'].apply( lambda x: geolocator.geocode(x, timeout=10).latitude if geolocator.geocode(x, timeout=10) != None else 'NF' )\n",
    "df2['end_station_longitude'] = df2['end_station'].apply( lambda x: geolocator.geocode(x, timeout=10).longitude if geolocator.geocode(x, timeout=10) != None else 'NF' )\n",
    "\n",
    "df2['distance'] = df2.apply( lambda x: geodesic( (x['start_station_latitude'], x['start_station_longitude']), (x['end_station_latitude'], x['end_station_longitude']) ).miles )\n",
    "\n",
    "# altitude\n",
    "# I will use the \"geopy\" library which uses the address, from start and end station, to find its altitude. After that I will calculate the difference between them.\n",
    "# The documentation of this librarie is in this link: https://nominatim.org/release-docs/develop/api/Output/\n",
    "df2['start_station_altitude'] = df2['start_station'].apply( lambda x: geolocator.geocode(x, timeout=10).altitude if geolocator.geocode(x, timeout=10) != None else 'NF' )\n",
    "\n",
    "df2['end_station_altitude'] = df2['end_station'].apply( lambda x: geolocator.geocode(x, timeout=10).altitude if geolocator.geocode(x, timeout=10) != None else 'NF' )\n",
    "\n",
    "df2['altitude'] = df2.apply( lambda x: x['end_station_altitude'] - x['start_station_altitude'] )"
   ]
  },
  {
   "cell_type": "code",
   "execution_count": null,
   "metadata": {},
   "outputs": [],
   "source": []
  }
 ],
 "metadata": {
  "kernelspec": {
   "display_name": "Python 3",
   "language": "python",
   "name": "python3"
  },
  "language_info": {
   "codemirror_mode": {
    "name": "ipython",
    "version": 3
   },
   "file_extension": ".py",
   "mimetype": "text/x-python",
   "name": "python",
   "nbconvert_exporter": "python",
   "pygments_lexer": "ipython3",
   "version": "3.7.6"
  }
 },
 "nbformat": 4,
 "nbformat_minor": 4
}
