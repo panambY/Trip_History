{
 "cells": [
  {
   "cell_type": "markdown",
   "metadata": {},
   "source": [
    "# 0.0 IMPORTS"
   ]
  },
  {
   "cell_type": "code",
   "execution_count": 1,
   "metadata": {
    "ExecuteTime": {
     "end_time": "2020-08-27T17:48:26.057399Z",
     "start_time": "2020-08-27T17:48:25.038912Z"
    }
   },
   "outputs": [],
   "source": [
    "import pandas as pd\n",
    "import inflection\n",
    "import math\n",
    "import numpy as np\n",
    "import seaborn as sns\n",
    "import matplotlib.pyplot as plt\n",
    "import matplotlib.gridspec as gridspec\n",
    "\n",
    "import datetime              \n",
    "from tabulate              import tabulate\n",
    "from scipy.stats           import chi2_contingency\n",
    "from IPython.display       import Image\n",
    "from IPython.core.display  import HTML\n",
    "\n",
    "from scipy                import stats                as ss"
   ]
  },
  {
   "cell_type": "markdown",
   "metadata": {
    "heading_collapsed": true
   },
   "source": [
    "## 0.1 Helper Function"
   ]
  },
  {
   "cell_type": "code",
   "execution_count": 2,
   "metadata": {
    "ExecuteTime": {
     "end_time": "2020-08-27T17:48:26.077300Z",
     "start_time": "2020-08-27T17:48:26.059377Z"
    },
    "hidden": true
   },
   "outputs": [],
   "source": [
    "def jupyter_settings():\n",
    "    %matplotlib inline\n",
    "    %pylab inline\n",
    "    \n",
    "    plt.style.use( 'bmh' )\n",
    "    plt.rcParams['figure.figsize'] = [25, 12]\n",
    "    plt.rcParams['font.size'] = 24\n",
    "    \n",
    "    display( HTML( '<style>.container { width:100% !important; }</style>') )\n",
    "    pd.options.display.max_columns = None\n",
    "    pd.options.display.max_rows = None\n",
    "    pd.set_option( 'display.expand_frame_repr', False )\n",
    "    \n",
    "    sns.set()\n",
    "    \n",
    "def cramer_v( x, y ):\n",
    "    cm = pd.crosstab( x, y ).values\n",
    "    n = cm.sum()\n",
    "    r, k = cm.shape\n",
    "    \n",
    "    chi2 = ss.chi2_contingency( cm )[0]\n",
    "    chi2corr = max( 0, chi2 - (k-1)*(r-1)/(n-1) )\n",
    "    \n",
    "    kcorr = k - (k-1)**2/(n-1)\n",
    "    rcorr = r - (r-1)**2/(n-1)\n",
    "    \n",
    "    return np.sqrt( (chi2corr/n) / ( min( kcorr-1, rcorr-1 ) ) )"
   ]
  },
  {
   "cell_type": "code",
   "execution_count": 3,
   "metadata": {
    "ExecuteTime": {
     "end_time": "2020-08-27T17:48:26.092263Z",
     "start_time": "2020-08-27T17:48:26.079293Z"
    },
    "hidden": true
   },
   "outputs": [
    {
     "name": "stdout",
     "output_type": "stream",
     "text": [
      "Populating the interactive namespace from numpy and matplotlib\n"
     ]
    },
    {
     "data": {
      "text/html": [
       "<style>.container { width:100% !important; }</style>"
      ],
      "text/plain": [
       "<IPython.core.display.HTML object>"
      ]
     },
     "metadata": {},
     "output_type": "display_data"
    }
   ],
   "source": [
    "jupyter_settings()"
   ]
  },
  {
   "cell_type": "markdown",
   "metadata": {
    "heading_collapsed": true
   },
   "source": [
    "## 0.2 Loading Data"
   ]
  },
  {
   "cell_type": "code",
   "execution_count": 4,
   "metadata": {
    "ExecuteTime": {
     "end_time": "2020-08-27T17:49:39.113967Z",
     "start_time": "2020-08-27T17:48:26.095250Z"
    },
    "hidden": true
   },
   "outputs": [],
   "source": [
    "df_trip_2010_raw = pd.read_csv('data/2010_tripdata.csv', low_memory=False)\n",
    "df_trip_2011_raw = pd.read_csv('data/2011_tripdata.csv', low_memory=False)\n",
    "df_trip_raw = pd.concat( [df_trip_2010_raw, df_trip_2011_raw] )\n",
    "\n",
    "df_trip_2012Q1_raw = pd.read_csv('data/2012Q1_tripdata.csv', low_memory=False)\n",
    "df_trip_2012Q2_raw = pd.read_csv('data/2012Q2_tripdata.csv', low_memory=False)\n",
    "df_trip_2012Q3_raw = pd.read_csv('data/2012Q3_tripdata.csv', low_memory=False)\n",
    "df_trip_2012Q4_raw = pd.read_csv('data/2012Q4_tripdata.csv', low_memory=False)\n",
    "df_trip_raw = pd.concat( [df_trip_raw, df_trip_2012Q1_raw, df_trip_2012Q2_raw, df_trip_2012Q3_raw, df_trip_2012Q4_raw] )\n",
    "\n",
    "df_trip_2013Q1_raw = pd.read_csv('data/2013Q1_tripdata.csv', low_memory=False)\n",
    "df_trip_2013Q2_raw = pd.read_csv('data/2013Q2_tripdata.csv', low_memory=False)\n",
    "df_trip_2013Q3_raw = pd.read_csv('data/2013Q3_tripdata.csv', low_memory=False)\n",
    "df_trip_2013Q4_raw = pd.read_csv('data/2013Q4_tripdata.csv', low_memory=False)\n",
    "df_trip_raw = pd.concat( [df_trip_raw, df_trip_2013Q1_raw, df_trip_2013Q2_raw, df_trip_2013Q3_raw, df_trip_2013Q4_raw] )\n",
    "\n",
    "df_trip_2014Q1_raw = pd.read_csv('data/2014Q1_tripdata.csv', low_memory=False)\n",
    "df_trip_2014Q2_raw = pd.read_csv('data/2014Q2_tripdata.csv', low_memory=False)\n",
    "df_trip_2014Q3_raw = pd.read_csv('data/2014Q3_tripdata.csv', low_memory=False)\n",
    "df_trip_2014Q4_raw = pd.read_csv('data/2014Q4_tripdata.csv', low_memory=False)\n",
    "df_trip_raw = pd.concat( [df_trip_raw, df_trip_2014Q1_raw, df_trip_2014Q2_raw, df_trip_2014Q3_raw, df_trip_2014Q4_raw] )\n",
    "\n",
    "df_trip_2015Q1_raw = pd.read_csv('data/2015Q1_tripdata.csv', low_memory=False)\n",
    "df_trip_2015Q2_raw = pd.read_csv('data/2015Q2_tripdata.csv', low_memory=False)\n",
    "df_trip_2015Q3_raw = pd.read_csv('data/2015Q3_tripdata.csv', low_memory=False)\n",
    "df_trip_2015Q4_raw = pd.read_csv('data/2015Q4_tripdata.csv', low_memory=False)\n",
    "df_trip_raw = pd.concat( [df_trip_raw, df_trip_2015Q1_raw, df_trip_2015Q2_raw, df_trip_2015Q3_raw, df_trip_2015Q4_raw] )\n",
    "\n",
    "df_trip_2016Q1_raw = pd.read_csv('data/2016Q1_tripdata.csv', low_memory=False)\n",
    "df_trip_2016Q2_raw = pd.read_csv('data/2016Q2_tripdata.csv', low_memory=False)\n",
    "df_trip_2016Q3_raw = pd.read_csv('data/2016Q3_tripdata.csv', low_memory=False)\n",
    "df_trip_2016Q4_raw = pd.read_csv('data/2016Q4_tripdata.csv', low_memory=False)\n",
    "df_trip_raw = pd.concat( [df_trip_raw, df_trip_2016Q1_raw, df_trip_2016Q2_raw, df_trip_2016Q3_raw, df_trip_2016Q4_raw] )\n",
    "\n",
    "df_trip_2017Q1_raw = pd.read_csv('data/2017Q1_tripdata.csv', low_memory=False)\n",
    "df_trip_2017Q2_raw = pd.read_csv('data/2017Q2_tripdata.csv', low_memory=False)\n",
    "df_trip_2017Q3_raw = pd.read_csv('data/2017Q3_tripdata.csv', low_memory=False)\n",
    "df_trip_2017Q4_raw = pd.read_csv('data/2017Q4_tripdata.csv', low_memory=False)\n",
    "df_trip_raw = pd.concat( [df_trip_raw, df_trip_2017Q1_raw, df_trip_2017Q2_raw, df_trip_2017Q3_raw, df_trip_2017Q4_raw] )\n"
   ]
  },
  {
   "cell_type": "code",
   "execution_count": 5,
   "metadata": {
    "ExecuteTime": {
     "end_time": "2020-08-27T17:49:43.225532Z",
     "start_time": "2020-08-27T17:49:39.116960Z"
    },
    "hidden": true
   },
   "outputs": [
    {
     "data": {
      "text/html": [
       "<div>\n",
       "<style scoped>\n",
       "    .dataframe tbody tr th:only-of-type {\n",
       "        vertical-align: middle;\n",
       "    }\n",
       "\n",
       "    .dataframe tbody tr th {\n",
       "        vertical-align: top;\n",
       "    }\n",
       "\n",
       "    .dataframe thead th {\n",
       "        text-align: right;\n",
       "    }\n",
       "</style>\n",
       "<table border=\"1\" class=\"dataframe\">\n",
       "  <thead>\n",
       "    <tr style=\"text-align: right;\">\n",
       "      <th></th>\n",
       "      <th>Duration</th>\n",
       "      <th>Start date</th>\n",
       "      <th>End date</th>\n",
       "      <th>Start station number</th>\n",
       "      <th>Start station</th>\n",
       "      <th>End station number</th>\n",
       "      <th>End station</th>\n",
       "      <th>Bike number</th>\n",
       "      <th>Member type</th>\n",
       "    </tr>\n",
       "  </thead>\n",
       "  <tbody>\n",
       "    <tr>\n",
       "      <th>356606</th>\n",
       "      <td>552</td>\n",
       "      <td>2016-07-31 09:17:03</td>\n",
       "      <td>2016-07-31 09:26:16</td>\n",
       "      <td>31110</td>\n",
       "      <td>20th St &amp; Florida Ave NW</td>\n",
       "      <td>31260</td>\n",
       "      <td>23rd &amp; E St NW</td>\n",
       "      <td>W22588</td>\n",
       "      <td>Member</td>\n",
       "    </tr>\n",
       "    <tr>\n",
       "      <th>1057869</th>\n",
       "      <td>7476</td>\n",
       "      <td>2011-11-05 16:00:25</td>\n",
       "      <td>2011-11-05 18:05:01</td>\n",
       "      <td>31221</td>\n",
       "      <td>18th &amp; M St NW</td>\n",
       "      <td>31015</td>\n",
       "      <td>Rosslyn Metro / Wilson Blvd &amp; Ft Myer Dr</td>\n",
       "      <td>W00088</td>\n",
       "      <td>Casual</td>\n",
       "    </tr>\n",
       "    <tr>\n",
       "      <th>933764</th>\n",
       "      <td>322</td>\n",
       "      <td>2015-09-19 15:26:18</td>\n",
       "      <td>2015-09-19 15:31:41</td>\n",
       "      <td>31049</td>\n",
       "      <td>Utah St &amp; 11th St N</td>\n",
       "      <td>31035</td>\n",
       "      <td>N Quincy St &amp; Glebe Rd</td>\n",
       "      <td>W20692</td>\n",
       "      <td>Member</td>\n",
       "    </tr>\n",
       "    <tr>\n",
       "      <th>309053</th>\n",
       "      <td>824</td>\n",
       "      <td>2011-05-17 15:43:20</td>\n",
       "      <td>2011-05-17 15:57:04</td>\n",
       "      <td>31228</td>\n",
       "      <td>8th &amp; H St NW</td>\n",
       "      <td>31217</td>\n",
       "      <td>USDA / 12th &amp; Independence Ave SW</td>\n",
       "      <td>W00768</td>\n",
       "      <td>Casual</td>\n",
       "    </tr>\n",
       "    <tr>\n",
       "      <th>916531</th>\n",
       "      <td>1105</td>\n",
       "      <td>2016-06-29 07:43:36</td>\n",
       "      <td>2016-06-29 08:02:02</td>\n",
       "      <td>31243</td>\n",
       "      <td>4th &amp; C St SW</td>\n",
       "      <td>31242</td>\n",
       "      <td>18th St &amp; Pennsylvania Ave NW</td>\n",
       "      <td>W21514</td>\n",
       "      <td>Member</td>\n",
       "    </tr>\n",
       "  </tbody>\n",
       "</table>\n",
       "</div>"
      ],
      "text/plain": [
       "         Duration           Start date             End date  Start station number             Start station  End station number                               End station Bike number Member type\n",
       "356606        552  2016-07-31 09:17:03  2016-07-31 09:26:16                 31110  20th St & Florida Ave NW               31260                           23rd & E St NW       W22588      Member\n",
       "1057869      7476  2011-11-05 16:00:25  2011-11-05 18:05:01                 31221            18th & M St NW               31015  Rosslyn Metro / Wilson Blvd & Ft Myer Dr      W00088      Casual\n",
       "933764        322  2015-09-19 15:26:18  2015-09-19 15:31:41                 31049      Utah St & 11th St N                31035                    N Quincy St & Glebe Rd      W20692      Member\n",
       "309053        824  2011-05-17 15:43:20  2011-05-17 15:57:04                 31228             8th & H St NW               31217         USDA / 12th & Independence Ave SW      W00768      Casual\n",
       "916531       1105  2016-06-29 07:43:36  2016-06-29 08:02:02                 31243             4th & C St SW               31242             18th St & Pennsylvania Ave NW      W21514      Member"
      ]
     },
     "execution_count": 5,
     "metadata": {},
     "output_type": "execute_result"
    }
   ],
   "source": [
    "df_trip_raw.sample(5)"
   ]
  },
  {
   "cell_type": "markdown",
   "metadata": {
    "heading_collapsed": true
   },
   "source": [
    "# 1.0 - DESCRIPTION OF DATA"
   ]
  },
  {
   "cell_type": "code",
   "execution_count": 6,
   "metadata": {
    "ExecuteTime": {
     "end_time": "2020-08-27T17:49:44.064859Z",
     "start_time": "2020-08-27T17:49:43.228526Z"
    },
    "hidden": true
   },
   "outputs": [],
   "source": [
    "df1 = df_trip_raw.copy()"
   ]
  },
  {
   "cell_type": "markdown",
   "metadata": {
    "heading_collapsed": true,
    "hidden": true
   },
   "source": [
    "## 1.1 Rename Columns"
   ]
  },
  {
   "cell_type": "code",
   "execution_count": 7,
   "metadata": {
    "ExecuteTime": {
     "end_time": "2020-08-27T17:49:44.071839Z",
     "start_time": "2020-08-27T17:49:44.065856Z"
    },
    "hidden": true
   },
   "outputs": [
    {
     "data": {
      "text/plain": [
       "Index(['Duration', 'Start date', 'End date', 'Start station number',\n",
       "       'Start station', 'End station number', 'End station', 'Bike number',\n",
       "       'Member type'],\n",
       "      dtype='object')"
      ]
     },
     "execution_count": 7,
     "metadata": {},
     "output_type": "execute_result"
    }
   ],
   "source": [
    "df1.columns\n",
    "# I like to modify the column names in order to change all of them in lower case and underline between words. At the same time, names must be self-explanatory."
   ]
  },
  {
   "cell_type": "code",
   "execution_count": 8,
   "metadata": {
    "ExecuteTime": {
     "end_time": "2020-08-27T17:49:44.083720Z",
     "start_time": "2020-08-27T17:49:44.075840Z"
    },
    "hidden": true
   },
   "outputs": [],
   "source": [
    "cols_old = ['Duration', 'Start date', 'End date', 'Start station number', 'Start station', 'End station number', 'End station', 'Bike number', 'Member type']\n",
    "cols_old_ajusted = ['Duration', 'StartDate', 'EndDate', 'StartStationNumber', 'StartStation', 'EndStationNumber', 'EndStation', 'BikeNumber', 'MemberType']\n",
    "\n",
    "# Whats is snakecase?\n",
    "# Whats do inflection.underscore function?\n",
    "snakecase = lambda x: inflection.underscore( x )\n",
    "\n",
    "# Why I use lis?\n",
    "cols_new = list( map( snakecase, cols_old_ajusted ) )\n",
    "\n",
    "# rename\n",
    "df1.columns = cols_new"
   ]
  },
  {
   "cell_type": "code",
   "execution_count": 9,
   "metadata": {
    "ExecuteTime": {
     "end_time": "2020-08-27T17:49:44.200469Z",
     "start_time": "2020-08-27T17:49:44.085714Z"
    },
    "hidden": true
   },
   "outputs": [],
   "source": [
    "# I will add the \"index\" column to help me in dealing with some techniques of managing data like check unbalanced data.\n",
    "df1['id'] = str(df1.index)"
   ]
  },
  {
   "cell_type": "code",
   "execution_count": 10,
   "metadata": {
    "ExecuteTime": {
     "end_time": "2020-08-27T17:49:44.206392Z",
     "start_time": "2020-08-27T17:49:44.201404Z"
    },
    "hidden": true
   },
   "outputs": [
    {
     "data": {
      "text/plain": [
       "Index(['duration', 'start_date', 'end_date', 'start_station_number',\n",
       "       'start_station', 'end_station_number', 'end_station', 'bike_number',\n",
       "       'member_type', 'id'],\n",
       "      dtype='object')"
      ]
     },
     "execution_count": 10,
     "metadata": {},
     "output_type": "execute_result"
    }
   ],
   "source": [
    "df1.columns"
   ]
  },
  {
   "cell_type": "markdown",
   "metadata": {
    "heading_collapsed": true,
    "hidden": true
   },
   "source": [
    "## 1.2 Data Dimensions"
   ]
  },
  {
   "cell_type": "code",
   "execution_count": 11,
   "metadata": {
    "ExecuteTime": {
     "end_time": "2020-08-27T17:49:44.216369Z",
     "start_time": "2020-08-27T17:49:44.208387Z"
    },
    "hidden": true
   },
   "outputs": [
    {
     "name": "stdout",
     "output_type": "stream",
     "text": [
      "Number of Rows: 19117643\n",
      "Number of Cols: 10\n"
     ]
    }
   ],
   "source": [
    "print( 'Number of Rows: {}'.format( df1.shape[0] ) )\n",
    "print( 'Number of Cols: {}'.format( df1.shape[1] ) )\n",
    "# Evaluate the possibilite do use this project in your computer"
   ]
  },
  {
   "cell_type": "markdown",
   "metadata": {
    "heading_collapsed": true,
    "hidden": true
   },
   "source": [
    "## 1.3 Data Types"
   ]
  },
  {
   "cell_type": "code",
   "execution_count": 12,
   "metadata": {
    "ExecuteTime": {
     "end_time": "2020-08-27T17:49:44.230330Z",
     "start_time": "2020-08-27T17:49:44.217363Z"
    },
    "hidden": true
   },
   "outputs": [
    {
     "data": {
      "text/plain": [
       "duration                 int64\n",
       "start_date              object\n",
       "end_date                object\n",
       "start_station_number     int64\n",
       "start_station           object\n",
       "end_station_number       int64\n",
       "end_station             object\n",
       "bike_number             object\n",
       "member_type             object\n",
       "id                      object\n",
       "dtype: object"
      ]
     },
     "execution_count": 12,
     "metadata": {},
     "output_type": "execute_result"
    }
   ],
   "source": [
    "df1.dtypes\n",
    "# Observe date. It has a different data type."
   ]
  },
  {
   "cell_type": "code",
   "execution_count": 13,
   "metadata": {
    "ExecuteTime": {
     "end_time": "2020-08-27T17:50:13.852935Z",
     "start_time": "2020-08-27T17:49:44.232322Z"
    },
    "hidden": true
   },
   "outputs": [],
   "source": [
    "df1['start_date'] = pd.to_datetime( df1['start_date'] )\n",
    "df1['end_date'] = pd.to_datetime( df1['end_date'] )"
   ]
  },
  {
   "cell_type": "code",
   "execution_count": 14,
   "metadata": {
    "ExecuteTime": {
     "end_time": "2020-08-27T17:50:13.862873Z",
     "start_time": "2020-08-27T17:50:13.854894Z"
    },
    "hidden": true
   },
   "outputs": [
    {
     "data": {
      "text/plain": [
       "duration                         int64\n",
       "start_date              datetime64[ns]\n",
       "end_date                datetime64[ns]\n",
       "start_station_number             int64\n",
       "start_station                   object\n",
       "end_station_number               int64\n",
       "end_station                     object\n",
       "bike_number                     object\n",
       "member_type                     object\n",
       "id                              object\n",
       "dtype: object"
      ]
     },
     "execution_count": 14,
     "metadata": {},
     "output_type": "execute_result"
    }
   ],
   "source": [
    "df1.dtypes"
   ]
  },
  {
   "cell_type": "markdown",
   "metadata": {
    "heading_collapsed": true,
    "hidden": true
   },
   "source": [
    "## 1.4 Check NA"
   ]
  },
  {
   "cell_type": "code",
   "execution_count": 15,
   "metadata": {
    "ExecuteTime": {
     "end_time": "2020-08-27T17:50:19.251997Z",
     "start_time": "2020-08-27T17:50:13.865865Z"
    },
    "hidden": true
   },
   "outputs": [
    {
     "data": {
      "text/plain": [
       "duration                0\n",
       "start_date              0\n",
       "end_date                0\n",
       "start_station_number    0\n",
       "start_station           0\n",
       "end_station_number      0\n",
       "end_station             0\n",
       "bike_number             0\n",
       "member_type             0\n",
       "id                      0\n",
       "dtype: int64"
      ]
     },
     "execution_count": 15,
     "metadata": {},
     "output_type": "execute_result"
    }
   ],
   "source": [
    "df1.isna().sum()"
   ]
  },
  {
   "cell_type": "markdown",
   "metadata": {
    "heading_collapsed": true,
    "hidden": true
   },
   "source": [
    "## 1.5 Fillout NA"
   ]
  },
  {
   "cell_type": "code",
   "execution_count": 16,
   "metadata": {
    "ExecuteTime": {
     "end_time": "2020-08-27T17:50:19.256986Z",
     "start_time": "2020-08-27T17:50:19.253992Z"
    },
    "hidden": true
   },
   "outputs": [],
   "source": [
    "# There aren't NaN values to fill."
   ]
  },
  {
   "cell_type": "markdown",
   "metadata": {
    "heading_collapsed": true,
    "hidden": true
   },
   "source": [
    "## 1.6 Check Unbalanced Data"
   ]
  },
  {
   "cell_type": "code",
   "execution_count": 17,
   "metadata": {
    "ExecuteTime": {
     "end_time": "2020-08-27T17:50:21.767820Z",
     "start_time": "2020-08-27T17:50:19.259982Z"
    },
    "hidden": true
   },
   "outputs": [
    {
     "data": {
      "text/html": [
       "<div>\n",
       "<style scoped>\n",
       "    .dataframe tbody tr th:only-of-type {\n",
       "        vertical-align: middle;\n",
       "    }\n",
       "\n",
       "    .dataframe tbody tr th {\n",
       "        vertical-align: top;\n",
       "    }\n",
       "\n",
       "    .dataframe thead th {\n",
       "        text-align: right;\n",
       "    }\n",
       "</style>\n",
       "<table border=\"1\" class=\"dataframe\">\n",
       "  <thead>\n",
       "    <tr style=\"text-align: right;\">\n",
       "      <th></th>\n",
       "      <th>member_type</th>\n",
       "      <th>id</th>\n",
       "      <th>perc%</th>\n",
       "    </tr>\n",
       "  </thead>\n",
       "  <tbody>\n",
       "    <tr>\n",
       "      <th>0</th>\n",
       "      <td>Unknown</td>\n",
       "      <td>58</td>\n",
       "      <td>0.00</td>\n",
       "    </tr>\n",
       "    <tr>\n",
       "      <th>1</th>\n",
       "      <td>Casual</td>\n",
       "      <td>4175473</td>\n",
       "      <td>21.84</td>\n",
       "    </tr>\n",
       "    <tr>\n",
       "      <th>2</th>\n",
       "      <td>Member</td>\n",
       "      <td>14942112</td>\n",
       "      <td>78.16</td>\n",
       "    </tr>\n",
       "  </tbody>\n",
       "</table>\n",
       "</div>"
      ],
      "text/plain": [
       "  member_type        id  perc%\n",
       "0     Unknown        58   0.00\n",
       "1      Casual   4175473  21.84\n",
       "2      Member  14942112  78.16"
      ]
     },
     "execution_count": 17,
     "metadata": {},
     "output_type": "execute_result"
    }
   ],
   "source": [
    "df_balanced = df1[['id', 'member_type']].groupby( 'member_type' ).count().sort_values( 'id' ).reset_index()\n",
    "df_balanced['perc%'] = 100*np.round( ( df_balanced['id'] / np.sum( df_balanced['id'] ) ), 4 )\n",
    "df_balanced"
   ]
  },
  {
   "cell_type": "markdown",
   "metadata": {
    "heading_collapsed": true,
    "hidden": true
   },
   "source": [
    "## 1.7 Descriptive Analysis"
   ]
  },
  {
   "cell_type": "markdown",
   "metadata": {
    "heading_collapsed": true,
    "hidden": true
   },
   "source": [
    "### 1.7.1 General"
   ]
  },
  {
   "cell_type": "code",
   "execution_count": 18,
   "metadata": {
    "ExecuteTime": {
     "end_time": "2020-08-27T17:50:22.935070Z",
     "start_time": "2020-08-27T17:50:21.769817Z"
    },
    "hidden": true
   },
   "outputs": [],
   "source": [
    "num_attributes = df1.select_dtypes( include=['int64', 'float64'] )\n",
    "cat_attributes = df1.select_dtypes( exclude=['int64', 'float64', 'datetime64[ns]'] )\n",
    "time_attributes = df1.select_dtypes( include=['datetime64[ns]'] )"
   ]
  },
  {
   "cell_type": "markdown",
   "metadata": {
    "heading_collapsed": true,
    "hidden": true
   },
   "source": [
    "#### 1.7.1.1 Numerical"
   ]
  },
  {
   "cell_type": "code",
   "execution_count": 19,
   "metadata": {
    "ExecuteTime": {
     "end_time": "2020-08-27T17:50:42.882785Z",
     "start_time": "2020-08-27T17:50:22.937059Z"
    },
    "hidden": true
   },
   "outputs": [
    {
     "data": {
      "text/html": [
       "<div>\n",
       "<style scoped>\n",
       "    .dataframe tbody tr th:only-of-type {\n",
       "        vertical-align: middle;\n",
       "    }\n",
       "\n",
       "    .dataframe tbody tr th {\n",
       "        vertical-align: top;\n",
       "    }\n",
       "\n",
       "    .dataframe thead th {\n",
       "        text-align: right;\n",
       "    }\n",
       "</style>\n",
       "<table border=\"1\" class=\"dataframe\">\n",
       "  <thead>\n",
       "    <tr style=\"text-align: right;\">\n",
       "      <th></th>\n",
       "      <th>attributes</th>\n",
       "      <th>min</th>\n",
       "      <th>max</th>\n",
       "      <th>range</th>\n",
       "      <th>mean</th>\n",
       "      <th>median</th>\n",
       "      <th>std</th>\n",
       "      <th>skew</th>\n",
       "      <th>kurtosis</th>\n",
       "    </tr>\n",
       "  </thead>\n",
       "  <tbody>\n",
       "    <tr>\n",
       "      <th>0</th>\n",
       "      <td>duration</td>\n",
       "      <td>60.0</td>\n",
       "      <td>86394.0</td>\n",
       "      <td>86334.0</td>\n",
       "      <td>1093.937030</td>\n",
       "      <td>673.0</td>\n",
       "      <td>2065.993636</td>\n",
       "      <td>16.465111</td>\n",
       "      <td>465.550138</td>\n",
       "    </tr>\n",
       "    <tr>\n",
       "      <th>1</th>\n",
       "      <td>start_station_number</td>\n",
       "      <td>31000.0</td>\n",
       "      <td>32225.0</td>\n",
       "      <td>1225.0</td>\n",
       "      <td>31303.112882</td>\n",
       "      <td>31241.0</td>\n",
       "      <td>205.059037</td>\n",
       "      <td>1.052848</td>\n",
       "      <td>0.744066</td>\n",
       "    </tr>\n",
       "    <tr>\n",
       "      <th>2</th>\n",
       "      <td>end_station_number</td>\n",
       "      <td>31000.0</td>\n",
       "      <td>32225.0</td>\n",
       "      <td>1225.0</td>\n",
       "      <td>31304.167477</td>\n",
       "      <td>31241.0</td>\n",
       "      <td>202.846500</td>\n",
       "      <td>1.057702</td>\n",
       "      <td>0.730085</td>\n",
       "    </tr>\n",
       "  </tbody>\n",
       "</table>\n",
       "</div>"
      ],
      "text/plain": [
       "             attributes      min      max    range          mean   median          std       skew    kurtosis\n",
       "0              duration     60.0  86394.0  86334.0   1093.937030    673.0  2065.993636  16.465111  465.550138\n",
       "1  start_station_number  31000.0  32225.0   1225.0  31303.112882  31241.0   205.059037   1.052848    0.744066\n",
       "2    end_station_number  31000.0  32225.0   1225.0  31304.167477  31241.0   202.846500   1.057702    0.730085"
      ]
     },
     "execution_count": 19,
     "metadata": {},
     "output_type": "execute_result"
    }
   ],
   "source": [
    "# Central Tendency\n",
    "ct1 = pd.DataFrame( num_attributes.apply( np.mean ) ).T\n",
    "ct2 = pd.DataFrame( num_attributes.apply( np.median ) ).T\n",
    "\n",
    "# Dispersion\n",
    "d1 = pd.DataFrame( num_attributes.apply( np.std ) ).T\n",
    "d2 = pd.DataFrame( num_attributes.apply( min ) ).T\n",
    "d3 = pd.DataFrame( num_attributes.apply( max ) ).T\n",
    "d4 = pd.DataFrame( num_attributes.apply( lambda x: x.max() - x.min() ) ).T\n",
    "d5 = pd.DataFrame( num_attributes.apply( lambda x: x.skew() ) ).T\n",
    "d6 = pd.DataFrame( num_attributes.apply( lambda x: x.kurtosis() ) ).T\n",
    "\n",
    "# Concatenar\n",
    "ct = pd.concat( [d2, d3, d4, ct1, ct2, d1, d5, d6] ).T.reset_index()\n",
    "ct.columns = ['attributes', 'min', 'max', 'range', 'mean', 'median', 'std', 'skew', 'kurtosis']\n",
    "ct"
   ]
  },
  {
   "cell_type": "markdown",
   "metadata": {
    "heading_collapsed": true,
    "hidden": true
   },
   "source": [
    "#### 1.7.1.2 Categorical"
   ]
  },
  {
   "cell_type": "code",
   "execution_count": 20,
   "metadata": {
    "ExecuteTime": {
     "end_time": "2020-08-27T17:50:56.437723Z",
     "start_time": "2020-08-27T17:50:42.887771Z"
    },
    "hidden": true
   },
   "outputs": [
    {
     "data": {
      "text/html": [
       "<div>\n",
       "<style scoped>\n",
       "    .dataframe tbody tr th:only-of-type {\n",
       "        vertical-align: middle;\n",
       "    }\n",
       "\n",
       "    .dataframe tbody tr th {\n",
       "        vertical-align: top;\n",
       "    }\n",
       "\n",
       "    .dataframe thead th {\n",
       "        text-align: right;\n",
       "    }\n",
       "</style>\n",
       "<table border=\"1\" class=\"dataframe\">\n",
       "  <thead>\n",
       "    <tr style=\"text-align: right;\">\n",
       "      <th></th>\n",
       "      <th>start_station</th>\n",
       "      <th>end_station</th>\n",
       "      <th>bike_number</th>\n",
       "      <th>member_type</th>\n",
       "    </tr>\n",
       "  </thead>\n",
       "  <tbody>\n",
       "    <tr>\n",
       "      <th>count</th>\n",
       "      <td>19117643</td>\n",
       "      <td>19117643</td>\n",
       "      <td>19117643</td>\n",
       "      <td>19117643</td>\n",
       "    </tr>\n",
       "    <tr>\n",
       "      <th>unique</th>\n",
       "      <td>488</td>\n",
       "      <td>488</td>\n",
       "      <td>4844</td>\n",
       "      <td>3</td>\n",
       "    </tr>\n",
       "    <tr>\n",
       "      <th>top</th>\n",
       "      <td>Columbus Circle / Union Station</td>\n",
       "      <td>Massachusetts Ave &amp; Dupont Circle NW</td>\n",
       "      <td>W00097</td>\n",
       "      <td>Member</td>\n",
       "    </tr>\n",
       "    <tr>\n",
       "      <th>freq</th>\n",
       "      <td>412433</td>\n",
       "      <td>439746</td>\n",
       "      <td>8358</td>\n",
       "      <td>14942112</td>\n",
       "    </tr>\n",
       "  </tbody>\n",
       "</table>\n",
       "</div>"
      ],
      "text/plain": [
       "                          start_station                           end_station bike_number member_type\n",
       "count                          19117643                              19117643    19117643    19117643\n",
       "unique                              488                                   488        4844           3\n",
       "top     Columbus Circle / Union Station  Massachusetts Ave & Dupont Circle NW      W00097      Member\n",
       "freq                             412433                                439746        8358    14942112"
      ]
     },
     "execution_count": 20,
     "metadata": {},
     "output_type": "execute_result"
    }
   ],
   "source": [
    "cat_attributes.drop( 'id', axis=1 ).describe()"
   ]
  },
  {
   "cell_type": "markdown",
   "metadata": {
    "heading_collapsed": true,
    "hidden": true
   },
   "source": [
    "### 1.7.2 Classes Oriented"
   ]
  },
  {
   "cell_type": "markdown",
   "metadata": {
    "heading_collapsed": true,
    "hidden": true
   },
   "source": [
    "#### 1.7.2.1 Numerical"
   ]
  },
  {
   "cell_type": "code",
   "execution_count": 21,
   "metadata": {
    "ExecuteTime": {
     "end_time": "2020-08-27T17:51:07.460007Z",
     "start_time": "2020-08-27T17:50:56.439716Z"
    },
    "hidden": true
   },
   "outputs": [
    {
     "data": {
      "text/html": [
       "<div>\n",
       "<style scoped>\n",
       "    .dataframe tbody tr th:only-of-type {\n",
       "        vertical-align: middle;\n",
       "    }\n",
       "\n",
       "    .dataframe tbody tr th {\n",
       "        vertical-align: top;\n",
       "    }\n",
       "\n",
       "    .dataframe thead th {\n",
       "        text-align: right;\n",
       "    }\n",
       "</style>\n",
       "<table border=\"1\" class=\"dataframe\">\n",
       "  <thead>\n",
       "    <tr style=\"text-align: right;\">\n",
       "      <th></th>\n",
       "      <th>duration_min</th>\n",
       "      <th>duration_max</th>\n",
       "      <th>duration_mean</th>\n",
       "      <th>duration_median</th>\n",
       "      <th>duration_range</th>\n",
       "      <th>duration_skew</th>\n",
       "      <th>duration_kurtosis</th>\n",
       "      <th>start_station_number_min</th>\n",
       "      <th>start_station_number_max</th>\n",
       "      <th>start_station_number_mean</th>\n",
       "      <th>start_station_number_median</th>\n",
       "      <th>start_station_number_range</th>\n",
       "      <th>start_station_number_skew</th>\n",
       "      <th>start_station_number_kurtosis</th>\n",
       "      <th>end_station_numberr_min</th>\n",
       "      <th>end_station_number_max</th>\n",
       "      <th>end_station_number_mean</th>\n",
       "      <th>end_station_number_median</th>\n",
       "      <th>end_station_number_range</th>\n",
       "      <th>end_station_number_skew</th>\n",
       "      <th>end_station_number_kurtosis</th>\n",
       "    </tr>\n",
       "    <tr>\n",
       "      <th>member_type</th>\n",
       "      <th></th>\n",
       "      <th></th>\n",
       "      <th></th>\n",
       "      <th></th>\n",
       "      <th></th>\n",
       "      <th></th>\n",
       "      <th></th>\n",
       "      <th></th>\n",
       "      <th></th>\n",
       "      <th></th>\n",
       "      <th></th>\n",
       "      <th></th>\n",
       "      <th></th>\n",
       "      <th></th>\n",
       "      <th></th>\n",
       "      <th></th>\n",
       "      <th></th>\n",
       "      <th></th>\n",
       "      <th></th>\n",
       "      <th></th>\n",
       "      <th></th>\n",
       "    </tr>\n",
       "  </thead>\n",
       "  <tbody>\n",
       "    <tr>\n",
       "      <th>Casual</th>\n",
       "      <td>60</td>\n",
       "      <td>86394</td>\n",
       "      <td>2422.380496</td>\n",
       "      <td>1454</td>\n",
       "      <td>86334</td>\n",
       "      <td>9.515771</td>\n",
       "      <td>161.433538</td>\n",
       "      <td>31000</td>\n",
       "      <td>32225</td>\n",
       "      <td>31278.031715</td>\n",
       "      <td>31247.0</td>\n",
       "      <td>1225</td>\n",
       "      <td>1.847427</td>\n",
       "      <td>4.699419</td>\n",
       "      <td>31000</td>\n",
       "      <td>32225</td>\n",
       "      <td>31277.975376</td>\n",
       "      <td>31247</td>\n",
       "      <td>1225</td>\n",
       "      <td>1.816883</td>\n",
       "      <td>4.533436</td>\n",
       "    </tr>\n",
       "    <tr>\n",
       "      <th>Member</th>\n",
       "      <td>60</td>\n",
       "      <td>86381</td>\n",
       "      <td>722.713754</td>\n",
       "      <td>568</td>\n",
       "      <td>86321</td>\n",
       "      <td>35.275772</td>\n",
       "      <td>1742.299807</td>\n",
       "      <td>31000</td>\n",
       "      <td>32225</td>\n",
       "      <td>31310.121842</td>\n",
       "      <td>31239.0</td>\n",
       "      <td>1225</td>\n",
       "      <td>0.900120</td>\n",
       "      <td>0.207868</td>\n",
       "      <td>31000</td>\n",
       "      <td>32225</td>\n",
       "      <td>31311.486860</td>\n",
       "      <td>31239</td>\n",
       "      <td>1225</td>\n",
       "      <td>0.909848</td>\n",
       "      <td>0.215187</td>\n",
       "    </tr>\n",
       "    <tr>\n",
       "      <th>Unknown</th>\n",
       "      <td>125</td>\n",
       "      <td>2477</td>\n",
       "      <td>748.172414</td>\n",
       "      <td>553</td>\n",
       "      <td>2352</td>\n",
       "      <td>1.519746</td>\n",
       "      <td>2.208551</td>\n",
       "      <td>31007</td>\n",
       "      <td>31623</td>\n",
       "      <td>31252.517241</td>\n",
       "      <td>31229.5</td>\n",
       "      <td>616</td>\n",
       "      <td>1.159526</td>\n",
       "      <td>1.226191</td>\n",
       "      <td>31002</td>\n",
       "      <td>31632</td>\n",
       "      <td>31258.689655</td>\n",
       "      <td>31221</td>\n",
       "      <td>630</td>\n",
       "      <td>0.954032</td>\n",
       "      <td>0.138627</td>\n",
       "    </tr>\n",
       "  </tbody>\n",
       "</table>\n",
       "</div>"
      ],
      "text/plain": [
       "             duration_min  duration_max  duration_mean  duration_median  duration_range  duration_skew  duration_kurtosis  start_station_number_min  start_station_number_max  start_station_number_mean  start_station_number_median  start_station_number_range  start_station_number_skew  start_station_number_kurtosis  end_station_numberr_min  end_station_number_max  end_station_number_mean  end_station_number_median  end_station_number_range  end_station_number_skew  end_station_number_kurtosis\n",
       "member_type                                                                                                                                                                                                                                                                                                                                                                                                                                                                                                     \n",
       "Casual                 60         86394    2422.380496             1454           86334       9.515771         161.433538                     31000                     32225               31278.031715                      31247.0                        1225                   1.847427                       4.699419                    31000                   32225             31277.975376                      31247                      1225                 1.816883                     4.533436\n",
       "Member                 60         86381     722.713754              568           86321      35.275772        1742.299807                     31000                     32225               31310.121842                      31239.0                        1225                   0.900120                       0.207868                    31000                   32225             31311.486860                      31239                      1225                 0.909848                     0.215187\n",
       "Unknown               125          2477     748.172414              553            2352       1.519746           2.208551                     31007                     31623               31252.517241                      31229.5                         616                   1.159526                       1.226191                    31002                   31632             31258.689655                      31221                       630                 0.954032                     0.138627"
      ]
     },
     "execution_count": 21,
     "metadata": {},
     "output_type": "execute_result"
    }
   ],
   "source": [
    "aux = df1[['duration', 'start_station_number', 'end_station_number', 'member_type']].groupby( 'member_type' ).agg( \n",
    "        duration_min      = ('duration', 'min'), \n",
    "        duration_max      = ('duration', 'max'),\n",
    "        duration_mean     = ('duration', 'mean'),\n",
    "        duration_median   = ('duration', 'median'),\n",
    "        duration_range    = ('duration', lambda x: x.max() - x.min() ),\n",
    "        duration_skew     = ('duration', lambda x: x.skew() ),\n",
    "        duration_kurtosis = ( 'duration', lambda x: x.kurtosis() ),\n",
    "        start_station_number_min    =   ('start_station_number', 'min'), \n",
    "        start_station_number_max    =   ('start_station_number', 'max'),\n",
    "        start_station_number_mean   =   ('start_station_number', 'mean'),\n",
    "        start_station_number_median =   ('start_station_number', 'median'),\n",
    "        start_station_number_range  =   ('start_station_number', lambda x: x.max() - x.min() ),\n",
    "        start_station_number_skew   =   ('start_station_number', lambda x: x.skew() ),\n",
    "        start_station_number_kurtosis = ( 'start_station_number', lambda x: x.kurtosis() ),\n",
    "        end_station_numberr_min    =   ('end_station_number', 'min'), \n",
    "        end_station_number_max    =   ('end_station_number', 'max'),\n",
    "        end_station_number_mean   =   ('end_station_number', 'mean'),\n",
    "        end_station_number_median =   ('end_station_number', 'median'),\n",
    "        end_station_number_range  =   ('end_station_number', lambda x: x.max() - x.min() ),\n",
    "        end_station_number_skew   =   ('end_station_number', lambda x: x.skew() ),\n",
    "        end_station_number_kurtosis = ( 'end_station_number', lambda x: x.kurtosis() ) )\n",
    "\n",
    "# show table\n",
    "aux"
   ]
  },
  {
   "cell_type": "markdown",
   "metadata": {
    "heading_collapsed": true,
    "hidden": true
   },
   "source": [
    "#### 1.7.2.2 Categorical"
   ]
  },
  {
   "cell_type": "code",
   "execution_count": 22,
   "metadata": {
    "ExecuteTime": {
     "end_time": "2020-08-27T17:51:21.565986Z",
     "start_time": "2020-08-27T17:51:07.463994Z"
    },
    "hidden": true
   },
   "outputs": [
    {
     "data": {
      "text/html": [
       "<div>\n",
       "<style scoped>\n",
       "    .dataframe tbody tr th:only-of-type {\n",
       "        vertical-align: middle;\n",
       "    }\n",
       "\n",
       "    .dataframe tbody tr th {\n",
       "        vertical-align: top;\n",
       "    }\n",
       "\n",
       "    .dataframe thead tr th {\n",
       "        text-align: left;\n",
       "    }\n",
       "\n",
       "    .dataframe thead tr:last-of-type th {\n",
       "        text-align: right;\n",
       "    }\n",
       "</style>\n",
       "<table border=\"1\" class=\"dataframe\">\n",
       "  <thead>\n",
       "    <tr>\n",
       "      <th></th>\n",
       "      <th colspan=\"4\" halign=\"left\">start_station</th>\n",
       "      <th colspan=\"4\" halign=\"left\">end_station</th>\n",
       "      <th colspan=\"4\" halign=\"left\">bike_number</th>\n",
       "    </tr>\n",
       "    <tr>\n",
       "      <th></th>\n",
       "      <th>count</th>\n",
       "      <th>unique</th>\n",
       "      <th>top</th>\n",
       "      <th>freq</th>\n",
       "      <th>count</th>\n",
       "      <th>unique</th>\n",
       "      <th>top</th>\n",
       "      <th>freq</th>\n",
       "      <th>count</th>\n",
       "      <th>unique</th>\n",
       "      <th>top</th>\n",
       "      <th>freq</th>\n",
       "    </tr>\n",
       "    <tr>\n",
       "      <th>member_type</th>\n",
       "      <th></th>\n",
       "      <th></th>\n",
       "      <th></th>\n",
       "      <th></th>\n",
       "      <th></th>\n",
       "      <th></th>\n",
       "      <th></th>\n",
       "      <th></th>\n",
       "      <th></th>\n",
       "      <th></th>\n",
       "      <th></th>\n",
       "      <th></th>\n",
       "    </tr>\n",
       "  </thead>\n",
       "  <tbody>\n",
       "    <tr>\n",
       "      <th>Casual</th>\n",
       "      <td>4175473</td>\n",
       "      <td>488</td>\n",
       "      <td>Lincoln Memorial</td>\n",
       "      <td>244118</td>\n",
       "      <td>4175473</td>\n",
       "      <td>488</td>\n",
       "      <td>Lincoln Memorial</td>\n",
       "      <td>239676</td>\n",
       "      <td>4175473</td>\n",
       "      <td>4838</td>\n",
       "      <td>W00195</td>\n",
       "      <td>1803</td>\n",
       "    </tr>\n",
       "    <tr>\n",
       "      <th>Member</th>\n",
       "      <td>14942112</td>\n",
       "      <td>488</td>\n",
       "      <td>Columbus Circle / Union Station</td>\n",
       "      <td>363247</td>\n",
       "      <td>14942112</td>\n",
       "      <td>488</td>\n",
       "      <td>Columbus Circle / Union Station</td>\n",
       "      <td>364978</td>\n",
       "      <td>14942112</td>\n",
       "      <td>4843</td>\n",
       "      <td>W00097</td>\n",
       "      <td>6565</td>\n",
       "    </tr>\n",
       "    <tr>\n",
       "      <th>Unknown</th>\n",
       "      <td>58</td>\n",
       "      <td>40</td>\n",
       "      <td>USDA / 12th &amp; Independence Ave SW</td>\n",
       "      <td>4</td>\n",
       "      <td>58</td>\n",
       "      <td>45</td>\n",
       "      <td>Crystal City Metro / 18th &amp; Bell St</td>\n",
       "      <td>3</td>\n",
       "      <td>58</td>\n",
       "      <td>57</td>\n",
       "      <td>W00456</td>\n",
       "      <td>2</td>\n",
       "    </tr>\n",
       "  </tbody>\n",
       "</table>\n",
       "</div>"
      ],
      "text/plain": [
       "            start_station                                                   end_station                                                     bike_number                     \n",
       "                    count unique                                top    freq       count unique                                  top    freq       count unique     top  freq\n",
       "member_type                                                                                                                                                                 \n",
       "Casual            4175473    488                   Lincoln Memorial  244118     4175473    488                     Lincoln Memorial  239676     4175473   4838  W00195  1803\n",
       "Member           14942112    488    Columbus Circle / Union Station  363247    14942112    488      Columbus Circle / Union Station  364978    14942112   4843  W00097  6565\n",
       "Unknown                58     40  USDA / 12th & Independence Ave SW       4          58     45  Crystal City Metro / 18th & Bell St       3          58     57  W00456     2"
      ]
     },
     "execution_count": 22,
     "metadata": {},
     "output_type": "execute_result"
    }
   ],
   "source": [
    "cat_attributes.drop( 'id', axis=1 ).groupby( 'member_type' ).describe()"
   ]
  },
  {
   "cell_type": "markdown",
   "metadata": {
    "heading_collapsed": true,
    "hidden": true
   },
   "source": [
    "### 1.7.3 Predictors and Class Correlation"
   ]
  },
  {
   "cell_type": "code",
   "execution_count": 23,
   "metadata": {
    "ExecuteTime": {
     "end_time": "2020-08-27T17:53:22.753224Z",
     "start_time": "2020-08-27T17:51:21.572966Z"
    },
    "hidden": true
   },
   "outputs": [
    {
     "data": {
      "text/plain": [
       "<matplotlib.axes._subplots.AxesSubplot at 0x1596e6f6b08>"
      ]
     },
     "execution_count": 23,
     "metadata": {},
     "output_type": "execute_result"
    },
    {
     "data": {
      "image/png": "[encoded data removed]",
      "text/plain": [
       "<Figure size 1800x864 with 2 Axes>"
      ]
     },
     "metadata": {},
     "output_type": "display_data"
    }
   ],
   "source": [
    "# list of categorical attributes\n",
    "cat_attributes_list = cat_attributes.drop( 'id', axis=1 ).columns.tolist()\n",
    "\n",
    "corr_dict = {}\n",
    "for i in range( len( cat_attributes_list ) ):\n",
    "    corr_list = []\n",
    "    for j in range( len( cat_attributes_list ) ):\n",
    "        #print( 'Ref: {} - Feat: {}'.format( cat_attributes_list[i], cat_attributes_list[j] ) )\n",
    "        ref = cat_attributes_list[i]\n",
    "        feat = cat_attributes_list[j]\n",
    "        \n",
    "        # correlation between two categorical variables\n",
    "        corr = cramer_v( cat_attributes[ ref ], cat_attributes[ feat ] )\n",
    "        \n",
    "        # append to a list\n",
    "        corr_list.append( corr )\n",
    "        \n",
    "    # append the correlation list for each ref attributes\n",
    "    corr_dict[ref] = corr_list\n",
    "\n",
    "d = pd.DataFrame( corr_dict )\n",
    "d = d.set_index( d.columns )\n",
    "sns.heatmap( d, annot=True )"
   ]
  },
  {
   "cell_type": "markdown",
   "metadata": {},
   "source": [
    "# 2.0 FEATURE ENGINEERING"
   ]
  },
  {
   "cell_type": "code",
   "execution_count": 24,
   "metadata": {
    "ExecuteTime": {
     "end_time": "2020-08-27T17:53:23.480695Z",
     "start_time": "2020-08-27T17:53:22.755183Z"
    }
   },
   "outputs": [],
   "source": [
    "df2 = df1.copy()"
   ]
  },
  {
   "cell_type": "code",
   "execution_count": 25,
   "metadata": {
    "ExecuteTime": {
     "end_time": "2020-08-27T19:16:04.559820Z",
     "start_time": "2020-08-27T19:16:04.534912Z"
    }
   },
   "outputs": [
    {
     "data": {
      "image/png": "[encoded data removed]",
      "text/plain": [
       "<IPython.core.display.Image object>"
      ]
     },
     "execution_count": 25,
     "metadata": {},
     "output_type": "execute_result"
    }
   ],
   "source": [
    "Image( \"image/Hyphoteses_Map.png\")"
   ]
  },
  {
   "cell_type": "markdown",
   "metadata": {},
   "source": [
    "## 2.1 Creation of Hypotheses"
   ]
  },
  {
   "cell_type": "markdown",
   "metadata": {
    "heading_collapsed": true
   },
   "source": [
    "### 2.1.1 Locality Hyphoteses"
   ]
  },
  {
   "cell_type": "markdown",
   "metadata": {
    "hidden": true
   },
   "source": [
    "**1.** Casual users should be in places with higher crime.\n",
    "\n",
    "**2.** Member users must travel greater distances.\n",
    "\n",
    "**3.** Casual users should use the bike in steep reliefs.\n",
    "\n",
    "**4.** Casual users should be present in greater numbers in places with more infrastructure."
   ]
  },
  {
   "cell_type": "markdown",
   "metadata": {
    "heading_collapsed": true
   },
   "source": [
    "### 2.1.2 Time Hyphoteses"
   ]
  },
  {
   "cell_type": "markdown",
   "metadata": {
    "hidden": true
   },
   "source": [
    "**1.** Casual users should use more on holidays.\n",
    "\n",
    "**2.** Member users should use more on weekdays.\n",
    "\n",
    "**3.** Member users should use it consistently over the months.\n",
    "\n",
    "**4.** Casual users should have longer travel times.\n",
    "\n",
    "**5.** Member users should use more during daylight hours.\n",
    "\n",
    "**6.** The use of casual users must have increased over the years.\n",
    "\n",
    "**7.** Member users should use more in the early hours of the day and in the late afternoon. "
   ]
  },
  {
   "cell_type": "markdown",
   "metadata": {
    "heading_collapsed": true
   },
   "source": [
    "### 2.1.3 Clime Hyphoteses"
   ]
  },
  {
   "cell_type": "markdown",
   "metadata": {
    "hidden": true
   },
   "source": [
    "**1.** Member users should use more with high humidity.\n",
    "\n",
    "**2.** Casual users should use less during rainy seasons.\n",
    "\n",
    "**3.** Member users should use more with high temperature.\n",
    "\n",
    "**4.** Casual users should use more in the summer seasons."
   ]
  },
  {
   "cell_type": "markdown",
   "metadata": {},
   "source": [
    "### 2.1.4 User Hyphoteses"
   ]
  },
  {
   "cell_type": "markdown",
   "metadata": {},
   "source": [
    "**1.** Member users must use more to work.\n",
    "\n",
    "**2.** Member users should be more present in high school students.\n",
    "\n",
    "**3.** Casual users should mostly have a driver's license.\n",
    "\n",
    "**4.** Member users should be in better physical condition.\n",
    "\n",
    "**5.** Casual users should be mostly men.\n",
    "\n",
    "**6.** Member users must be mostly young.\n",
    "\n",
    "**7.** Member users must not have trauma.\n",
    "\n",
    "**8.** Member users must not have a good financial condition."
   ]
  },
  {
   "cell_type": "code",
   "execution_count": null,
   "metadata": {},
   "outputs": [],
   "source": [
    "## 2.2 Create New Features"
   ]
  }
 ],
 "metadata": {
  "kernelspec": {
   "display_name": "Python 3",
   "language": "python",
   "name": "python3"
  },
  "language_info": {
   "codemirror_mode": {
    "name": "ipython",
    "version": 3
   },
   "file_extension": ".py",
   "mimetype": "text/x-python",
   "name": "python",
   "nbconvert_exporter": "python",
   "pygments_lexer": "ipython3",
   "version": "3.7.6"
  }
 },
 "nbformat": 4,
 "nbformat_minor": 4
}
