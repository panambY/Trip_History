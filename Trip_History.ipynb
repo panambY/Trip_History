{
 "cells": [
  {
   "cell_type": "markdown",
   "metadata": {},
   "source": [
    "# 0.0 IMPORTS"
   ]
  },
  {
   "cell_type": "code",
   "execution_count": 27,
   "metadata": {
    "ExecuteTime": {
     "end_time": "2020-08-27T00:46:05.131683Z",
     "start_time": "2020-08-27T00:46:05.124701Z"
    }
   },
   "outputs": [],
   "source": [
    "import pandas as pd\n",
    "import inflection\n",
    "import math\n",
    "import numpy as np\n",
    "import seaborn as sns\n",
    "import matplotlib.pyplot as plt\n",
    "import matplotlib.gridspec as gridspec\n",
    "\n",
    "import datetime              \n",
    "from tabulate              import tabulate\n",
    "from scipy.stats           import chi2_contingency\n",
    "from IPython.display       import Image\n",
    "from IPython.core.display  import HTML\n",
    "\n",
    "from scipy                import stats                as ss"
   ]
  },
  {
   "cell_type": "markdown",
   "metadata": {
    "heading_collapsed": true
   },
   "source": [
    "## 0.1 Helper Function"
   ]
  },
  {
   "cell_type": "code",
   "execution_count": 25,
   "metadata": {
    "ExecuteTime": {
     "end_time": "2020-08-27T00:45:00.409059Z",
     "start_time": "2020-08-27T00:45:00.391103Z"
    },
    "hidden": true
   },
   "outputs": [],
   "source": [
    "def jupyter_settings():\n",
    "    %matplotlib inline\n",
    "    %pylab inline\n",
    "    \n",
    "    plt.style.use( 'bmh' )\n",
    "    plt.rcParams['figure.figsize'] = [25, 12]\n",
    "    plt.rcParams['font.size'] = 24\n",
    "    \n",
    "    display( HTML( '<style>.container { width:100% !important; }</style>') )\n",
    "    pd.options.display.max_columns = None\n",
    "    pd.options.display.max_rows = None\n",
    "    pd.set_option( 'display.expand_frame_repr', False )\n",
    "    \n",
    "    sns.set()\n",
    "    \n",
    "def cramer_v( x, y ):\n",
    "    cm = pd.crosstab( x, y ).values\n",
    "    n = cm.sum()\n",
    "    r, k = cm.shape\n",
    "    \n",
    "    chi2 = ss.chi2_contingency( cm )[0]\n",
    "    chi2corr = max( 0, chi2 - (k-1)*(r-1)/(n-1) )\n",
    "    \n",
    "    kcorr = k - (k-1)**2/(n-1)\n",
    "    rcorr = r - (r-1)**2/(n-1)\n",
    "    \n",
    "    return np.sqrt( (chi2corr/n) / ( min( kcorr-1, rcorr-1 ) ) )"
   ]
  },
  {
   "cell_type": "code",
   "execution_count": 3,
   "metadata": {
    "ExecuteTime": {
     "end_time": "2020-08-27T00:34:58.970304Z",
     "start_time": "2020-08-27T00:34:58.956273Z"
    },
    "hidden": true
   },
   "outputs": [
    {
     "name": "stdout",
     "output_type": "stream",
     "text": [
      "Populating the interactive namespace from numpy and matplotlib\n"
     ]
    },
    {
     "data": {
      "text/html": [
       "<style>.container { width:100% !important; }</style>"
      ],
      "text/plain": [
       "<IPython.core.display.HTML object>"
      ]
     },
     "metadata": {},
     "output_type": "display_data"
    }
   ],
   "source": [
    "jupyter_settings()"
   ]
  },
  {
   "cell_type": "markdown",
   "metadata": {
    "heading_collapsed": true
   },
   "source": [
    "## 0.2 Loading Data"
   ]
  },
  {
   "cell_type": "code",
   "execution_count": 4,
   "metadata": {
    "ExecuteTime": {
     "end_time": "2020-08-27T00:36:02.124864Z",
     "start_time": "2020-08-27T00:34:58.971271Z"
    },
    "hidden": true
   },
   "outputs": [],
   "source": [
    "df_trip_2010_raw = pd.read_csv('data/2010_tripdata.csv', low_memory=False)\n",
    "df_trip_2011_raw = pd.read_csv('data/2011_tripdata.csv', low_memory=False)\n",
    "df_trip_raw = pd.concat( [df_trip_2010_raw, df_trip_2011_raw] )\n",
    "\n",
    "df_trip_2012Q1_raw = pd.read_csv('data/2012Q1_tripdata.csv', low_memory=False)\n",
    "df_trip_2012Q2_raw = pd.read_csv('data/2012Q2_tripdata.csv', low_memory=False)\n",
    "df_trip_2012Q3_raw = pd.read_csv('data/2012Q3_tripdata.csv', low_memory=False)\n",
    "df_trip_2012Q4_raw = pd.read_csv('data/2012Q4_tripdata.csv', low_memory=False)\n",
    "df_trip_raw = pd.concat( [df_trip_raw, df_trip_2012Q1_raw, df_trip_2012Q2_raw, df_trip_2012Q3_raw, df_trip_2012Q4_raw] )\n",
    "\n",
    "df_trip_2013Q1_raw = pd.read_csv('data/2013Q1_tripdata.csv', low_memory=False)\n",
    "df_trip_2013Q2_raw = pd.read_csv('data/2013Q2_tripdata.csv', low_memory=False)\n",
    "df_trip_2013Q3_raw = pd.read_csv('data/2013Q3_tripdata.csv', low_memory=False)\n",
    "df_trip_2013Q4_raw = pd.read_csv('data/2013Q4_tripdata.csv', low_memory=False)\n",
    "df_trip_raw = pd.concat( [df_trip_raw, df_trip_2013Q1_raw, df_trip_2013Q2_raw, df_trip_2013Q3_raw, df_trip_2013Q4_raw] )\n",
    "\n",
    "df_trip_2014Q1_raw = pd.read_csv('data/2014Q1_tripdata.csv', low_memory=False)\n",
    "df_trip_2014Q2_raw = pd.read_csv('data/2014Q2_tripdata.csv', low_memory=False)\n",
    "df_trip_2014Q3_raw = pd.read_csv('data/2014Q3_tripdata.csv', low_memory=False)\n",
    "df_trip_2014Q4_raw = pd.read_csv('data/2014Q4_tripdata.csv', low_memory=False)\n",
    "df_trip_raw = pd.concat( [df_trip_raw, df_trip_2014Q1_raw, df_trip_2014Q2_raw, df_trip_2014Q3_raw, df_trip_2014Q4_raw] )\n",
    "\n",
    "df_trip_2015Q1_raw = pd.read_csv('data/2015Q1_tripdata.csv', low_memory=False)\n",
    "df_trip_2015Q2_raw = pd.read_csv('data/2015Q2_tripdata.csv', low_memory=False)\n",
    "df_trip_2015Q3_raw = pd.read_csv('data/2015Q3_tripdata.csv', low_memory=False)\n",
    "df_trip_2015Q4_raw = pd.read_csv('data/2015Q4_tripdata.csv', low_memory=False)\n",
    "df_trip_raw = pd.concat( [df_trip_raw, df_trip_2015Q1_raw, df_trip_2015Q2_raw, df_trip_2015Q3_raw, df_trip_2015Q4_raw] )\n",
    "\n",
    "df_trip_2016Q1_raw = pd.read_csv('data/2016Q1_tripdata.csv', low_memory=False)\n",
    "df_trip_2016Q2_raw = pd.read_csv('data/2016Q2_tripdata.csv', low_memory=False)\n",
    "df_trip_2016Q3_raw = pd.read_csv('data/2016Q3_tripdata.csv', low_memory=False)\n",
    "df_trip_2016Q4_raw = pd.read_csv('data/2016Q4_tripdata.csv', low_memory=False)\n",
    "df_trip_raw = pd.concat( [df_trip_raw, df_trip_2016Q1_raw, df_trip_2016Q2_raw, df_trip_2016Q3_raw, df_trip_2016Q4_raw] )\n",
    "\n",
    "df_trip_2017Q1_raw = pd.read_csv('data/2017Q1_tripdata.csv', low_memory=False)\n",
    "df_trip_2017Q2_raw = pd.read_csv('data/2017Q2_tripdata.csv', low_memory=False)\n",
    "df_trip_2017Q3_raw = pd.read_csv('data/2017Q3_tripdata.csv', low_memory=False)\n",
    "df_trip_2017Q4_raw = pd.read_csv('data/2017Q4_tripdata.csv', low_memory=False)\n",
    "df_trip_raw = pd.concat( [df_trip_raw, df_trip_2017Q1_raw, df_trip_2017Q2_raw, df_trip_2017Q3_raw, df_trip_2017Q4_raw] )\n"
   ]
  },
  {
   "cell_type": "code",
   "execution_count": 5,
   "metadata": {
    "ExecuteTime": {
     "end_time": "2020-08-27T00:36:05.129582Z",
     "start_time": "2020-08-27T00:36:02.125862Z"
    },
    "hidden": true
   },
   "outputs": [
    {
     "data": {
      "text/html": [
       "<div>\n",
       "<style scoped>\n",
       "    .dataframe tbody tr th:only-of-type {\n",
       "        vertical-align: middle;\n",
       "    }\n",
       "\n",
       "    .dataframe tbody tr th {\n",
       "        vertical-align: top;\n",
       "    }\n",
       "\n",
       "    .dataframe thead th {\n",
       "        text-align: right;\n",
       "    }\n",
       "</style>\n",
       "<table border=\"1\" class=\"dataframe\">\n",
       "  <thead>\n",
       "    <tr style=\"text-align: right;\">\n",
       "      <th></th>\n",
       "      <th>Duration</th>\n",
       "      <th>Start date</th>\n",
       "      <th>End date</th>\n",
       "      <th>Start station number</th>\n",
       "      <th>Start station</th>\n",
       "      <th>End station number</th>\n",
       "      <th>End station</th>\n",
       "      <th>Bike number</th>\n",
       "      <th>Member type</th>\n",
       "    </tr>\n",
       "  </thead>\n",
       "  <tbody>\n",
       "    <tr>\n",
       "      <th>549728</th>\n",
       "      <td>1185</td>\n",
       "      <td>2013-08-31 11:53:16</td>\n",
       "      <td>2013-08-31 12:13:01</td>\n",
       "      <td>31272</td>\n",
       "      <td>Washington &amp; Independence Ave SW/HHS</td>\n",
       "      <td>31271</td>\n",
       "      <td>Constitution Ave &amp; 2nd St NW/DOL</td>\n",
       "      <td>W00716</td>\n",
       "      <td>Casual</td>\n",
       "    </tr>\n",
       "    <tr>\n",
       "      <th>823082</th>\n",
       "      <td>4321</td>\n",
       "      <td>2013-09-29 12:11:54</td>\n",
       "      <td>2013-09-29 13:23:56</td>\n",
       "      <td>31200</td>\n",
       "      <td>Massachusetts Ave &amp; Dupont Circle NW</td>\n",
       "      <td>31271</td>\n",
       "      <td>Constitution Ave &amp; 2nd St NW/DOL</td>\n",
       "      <td>W00966</td>\n",
       "      <td>Casual</td>\n",
       "    </tr>\n",
       "    <tr>\n",
       "      <th>362327</th>\n",
       "      <td>1428</td>\n",
       "      <td>2015-11-08 16:00:15</td>\n",
       "      <td>2015-11-08 16:24:03</td>\n",
       "      <td>31015</td>\n",
       "      <td>Rosslyn Metro / Wilson Blvd &amp; Ft Myer Dr</td>\n",
       "      <td>31275</td>\n",
       "      <td>New Hampshire Ave &amp; 24th St NW</td>\n",
       "      <td>W00397</td>\n",
       "      <td>Member</td>\n",
       "    </tr>\n",
       "    <tr>\n",
       "      <th>616325</th>\n",
       "      <td>275</td>\n",
       "      <td>2017-05-23 23:29:47</td>\n",
       "      <td>2017-05-23 23:34:23</td>\n",
       "      <td>31202</td>\n",
       "      <td>14th &amp; R St NW</td>\n",
       "      <td>31266</td>\n",
       "      <td>11th &amp; M St NW</td>\n",
       "      <td>W22729</td>\n",
       "      <td>Member</td>\n",
       "    </tr>\n",
       "    <tr>\n",
       "      <th>656830</th>\n",
       "      <td>461</td>\n",
       "      <td>2016-12-08 16:10:15</td>\n",
       "      <td>2016-12-08 16:17:56</td>\n",
       "      <td>31227</td>\n",
       "      <td>13th St &amp; New York Ave NW</td>\n",
       "      <td>31604</td>\n",
       "      <td>3rd &amp; H St NW</td>\n",
       "      <td>W22653</td>\n",
       "      <td>Member</td>\n",
       "    </tr>\n",
       "  </tbody>\n",
       "</table>\n",
       "</div>"
      ],
      "text/plain": [
       "        Duration           Start date             End date  Start station number                             Start station  End station number                       End station Bike number Member type\n",
       "549728      1185  2013-08-31 11:53:16  2013-08-31 12:13:01                 31272      Washington & Independence Ave SW/HHS               31271  Constitution Ave & 2nd St NW/DOL      W00716      Casual\n",
       "823082      4321  2013-09-29 12:11:54  2013-09-29 13:23:56                 31200      Massachusetts Ave & Dupont Circle NW               31271  Constitution Ave & 2nd St NW/DOL      W00966      Casual\n",
       "362327      1428  2015-11-08 16:00:15  2015-11-08 16:24:03                 31015  Rosslyn Metro / Wilson Blvd & Ft Myer Dr               31275    New Hampshire Ave & 24th St NW      W00397      Member\n",
       "616325       275  2017-05-23 23:29:47  2017-05-23 23:34:23                 31202                            14th & R St NW               31266                    11th & M St NW      W22729      Member\n",
       "656830       461  2016-12-08 16:10:15  2016-12-08 16:17:56                 31227                 13th St & New York Ave NW               31604                     3rd & H St NW      W22653      Member"
      ]
     },
     "execution_count": 5,
     "metadata": {},
     "output_type": "execute_result"
    }
   ],
   "source": [
    "df_trip_raw.sample(5)"
   ]
  },
  {
   "cell_type": "markdown",
   "metadata": {
    "heading_collapsed": true
   },
   "source": [
    "# 1.0 - DESCRIPTION OF DATA"
   ]
  },
  {
   "cell_type": "code",
   "execution_count": 6,
   "metadata": {
    "ExecuteTime": {
     "end_time": "2020-08-27T00:36:05.760667Z",
     "start_time": "2020-08-27T00:36:05.130580Z"
    },
    "hidden": true
   },
   "outputs": [],
   "source": [
    "df1 = df_trip_raw.copy()"
   ]
  },
  {
   "cell_type": "markdown",
   "metadata": {
    "heading_collapsed": true,
    "hidden": true
   },
   "source": [
    "## 1.1 Rename Columns"
   ]
  },
  {
   "cell_type": "code",
   "execution_count": 7,
   "metadata": {
    "ExecuteTime": {
     "end_time": "2020-08-27T00:36:05.767337Z",
     "start_time": "2020-08-27T00:36:05.762350Z"
    },
    "hidden": true
   },
   "outputs": [
    {
     "data": {
      "text/plain": [
       "Index(['Duration', 'Start date', 'End date', 'Start station number',\n",
       "       'Start station', 'End station number', 'End station', 'Bike number',\n",
       "       'Member type'],\n",
       "      dtype='object')"
      ]
     },
     "execution_count": 7,
     "metadata": {},
     "output_type": "execute_result"
    }
   ],
   "source": [
    "df1.columns\n",
    "# I like to modify the column names in order to change all of them in lower case and underline between words. At the same time, names must be self-explanatory."
   ]
  },
  {
   "cell_type": "code",
   "execution_count": 8,
   "metadata": {
    "ExecuteTime": {
     "end_time": "2020-08-27T00:36:05.775562Z",
     "start_time": "2020-08-27T00:36:05.769331Z"
    },
    "hidden": true
   },
   "outputs": [],
   "source": [
    "cols_old = ['Duration', 'Start date', 'End date', 'Start station number', 'Start station', 'End station number', 'End station', 'Bike number', 'Member type']\n",
    "cols_old_ajusted = ['Duration', 'StartDate', 'EndDate', 'StartStationNumber', 'StartStation', 'EndStationNumber', 'EndStation', 'BikeNumber', 'MemberType']\n",
    "\n",
    "# Whats is snakecase?\n",
    "# Whats do inflection.underscore function?\n",
    "snakecase = lambda x: inflection.underscore( x )\n",
    "\n",
    "# Why I use lis?\n",
    "cols_new = list( map( snakecase, cols_old_ajusted ) )\n",
    "\n",
    "# rename\n",
    "df1.columns = cols_new"
   ]
  },
  {
   "cell_type": "code",
   "execution_count": 9,
   "metadata": {
    "ExecuteTime": {
     "end_time": "2020-08-27T00:36:05.863200Z",
     "start_time": "2020-08-27T00:36:05.777559Z"
    },
    "hidden": true
   },
   "outputs": [],
   "source": [
    "# I will add the \"index\" column to help me in dealing with some techniques of managing data like check unbalanced data.\n",
    "df1['id'] = str(df1.index)"
   ]
  },
  {
   "cell_type": "code",
   "execution_count": 10,
   "metadata": {
    "ExecuteTime": {
     "end_time": "2020-08-27T00:36:05.872209Z",
     "start_time": "2020-08-27T00:36:05.864197Z"
    },
    "hidden": true
   },
   "outputs": [
    {
     "data": {
      "text/plain": [
       "Index(['duration', 'start_date', 'end_date', 'start_station_number',\n",
       "       'start_station', 'end_station_number', 'end_station', 'bike_number',\n",
       "       'member_type', 'id'],\n",
       "      dtype='object')"
      ]
     },
     "execution_count": 10,
     "metadata": {},
     "output_type": "execute_result"
    }
   ],
   "source": [
    "df1.columns"
   ]
  },
  {
   "cell_type": "markdown",
   "metadata": {
    "heading_collapsed": true,
    "hidden": true
   },
   "source": [
    "## 1.2 Data Dimensions"
   ]
  },
  {
   "cell_type": "code",
   "execution_count": 11,
   "metadata": {
    "ExecuteTime": {
     "end_time": "2020-08-27T00:36:05.883146Z",
     "start_time": "2020-08-27T00:36:05.873204Z"
    },
    "hidden": true
   },
   "outputs": [
    {
     "name": "stdout",
     "output_type": "stream",
     "text": [
      "Number of Rows: 19117643\n",
      "Number of Cols: 10\n"
     ]
    }
   ],
   "source": [
    "print( 'Number of Rows: {}'.format( df1.shape[0] ) )\n",
    "print( 'Number of Cols: {}'.format( df1.shape[1] ) )\n",
    "# Evaluate the possibilite do use this project in your computer"
   ]
  },
  {
   "cell_type": "markdown",
   "metadata": {
    "heading_collapsed": true,
    "hidden": true
   },
   "source": [
    "## 1.3 Data Types"
   ]
  },
  {
   "cell_type": "code",
   "execution_count": 12,
   "metadata": {
    "ExecuteTime": {
     "end_time": "2020-08-27T00:36:05.896189Z",
     "start_time": "2020-08-27T00:36:05.884144Z"
    },
    "hidden": true
   },
   "outputs": [
    {
     "data": {
      "text/plain": [
       "duration                 int64\n",
       "start_date              object\n",
       "end_date                object\n",
       "start_station_number     int64\n",
       "start_station           object\n",
       "end_station_number       int64\n",
       "end_station             object\n",
       "bike_number             object\n",
       "member_type             object\n",
       "id                      object\n",
       "dtype: object"
      ]
     },
     "execution_count": 12,
     "metadata": {},
     "output_type": "execute_result"
    }
   ],
   "source": [
    "df1.dtypes\n",
    "# Observe date. It has a different data type."
   ]
  },
  {
   "cell_type": "code",
   "execution_count": 13,
   "metadata": {
    "ExecuteTime": {
     "end_time": "2020-08-27T00:36:27.337124Z",
     "start_time": "2020-08-27T00:36:05.897173Z"
    },
    "hidden": true
   },
   "outputs": [],
   "source": [
    "df1['start_date'] = pd.to_datetime( df1['start_date'] )\n",
    "df1['end_date'] = pd.to_datetime( df1['end_date'] )"
   ]
  },
  {
   "cell_type": "code",
   "execution_count": 14,
   "metadata": {
    "ExecuteTime": {
     "end_time": "2020-08-27T00:36:27.344105Z",
     "start_time": "2020-08-27T00:36:27.338121Z"
    },
    "hidden": true
   },
   "outputs": [
    {
     "data": {
      "text/plain": [
       "duration                         int64\n",
       "start_date              datetime64[ns]\n",
       "end_date                datetime64[ns]\n",
       "start_station_number             int64\n",
       "start_station                   object\n",
       "end_station_number               int64\n",
       "end_station                     object\n",
       "bike_number                     object\n",
       "member_type                     object\n",
       "id                              object\n",
       "dtype: object"
      ]
     },
     "execution_count": 14,
     "metadata": {},
     "output_type": "execute_result"
    }
   ],
   "source": [
    "df1.dtypes"
   ]
  },
  {
   "cell_type": "markdown",
   "metadata": {
    "heading_collapsed": true,
    "hidden": true
   },
   "source": [
    "## 1.4 Check NA"
   ]
  },
  {
   "cell_type": "code",
   "execution_count": 15,
   "metadata": {
    "ExecuteTime": {
     "end_time": "2020-08-27T00:36:31.490706Z",
     "start_time": "2020-08-27T00:36:27.346100Z"
    },
    "hidden": true
   },
   "outputs": [
    {
     "data": {
      "text/plain": [
       "duration                0\n",
       "start_date              0\n",
       "end_date                0\n",
       "start_station_number    0\n",
       "start_station           0\n",
       "end_station_number      0\n",
       "end_station             0\n",
       "bike_number             0\n",
       "member_type             0\n",
       "id                      0\n",
       "dtype: int64"
      ]
     },
     "execution_count": 15,
     "metadata": {},
     "output_type": "execute_result"
    }
   ],
   "source": [
    "df1.isna().sum()"
   ]
  },
  {
   "cell_type": "markdown",
   "metadata": {
    "heading_collapsed": true,
    "hidden": true
   },
   "source": [
    "## 1.5 Fillout NA"
   ]
  },
  {
   "cell_type": "code",
   "execution_count": 16,
   "metadata": {
    "ExecuteTime": {
     "end_time": "2020-08-27T00:36:31.494695Z",
     "start_time": "2020-08-27T00:36:31.491735Z"
    },
    "hidden": true
   },
   "outputs": [],
   "source": [
    "# There aren't NaN values to fill."
   ]
  },
  {
   "cell_type": "markdown",
   "metadata": {
    "heading_collapsed": true,
    "hidden": true
   },
   "source": [
    "## 1.6 Check Unbalanced Data"
   ]
  },
  {
   "cell_type": "code",
   "execution_count": 17,
   "metadata": {
    "ExecuteTime": {
     "end_time": "2020-08-27T00:36:33.320171Z",
     "start_time": "2020-08-27T00:36:31.496690Z"
    },
    "hidden": true
   },
   "outputs": [
    {
     "data": {
      "text/html": [
       "<div>\n",
       "<style scoped>\n",
       "    .dataframe tbody tr th:only-of-type {\n",
       "        vertical-align: middle;\n",
       "    }\n",
       "\n",
       "    .dataframe tbody tr th {\n",
       "        vertical-align: top;\n",
       "    }\n",
       "\n",
       "    .dataframe thead th {\n",
       "        text-align: right;\n",
       "    }\n",
       "</style>\n",
       "<table border=\"1\" class=\"dataframe\">\n",
       "  <thead>\n",
       "    <tr style=\"text-align: right;\">\n",
       "      <th></th>\n",
       "      <th>member_type</th>\n",
       "      <th>id</th>\n",
       "      <th>perc%</th>\n",
       "    </tr>\n",
       "  </thead>\n",
       "  <tbody>\n",
       "    <tr>\n",
       "      <th>0</th>\n",
       "      <td>Unknown</td>\n",
       "      <td>58</td>\n",
       "      <td>0.00</td>\n",
       "    </tr>\n",
       "    <tr>\n",
       "      <th>1</th>\n",
       "      <td>Casual</td>\n",
       "      <td>4175473</td>\n",
       "      <td>21.84</td>\n",
       "    </tr>\n",
       "    <tr>\n",
       "      <th>2</th>\n",
       "      <td>Member</td>\n",
       "      <td>14942112</td>\n",
       "      <td>78.16</td>\n",
       "    </tr>\n",
       "  </tbody>\n",
       "</table>\n",
       "</div>"
      ],
      "text/plain": [
       "  member_type        id  perc%\n",
       "0     Unknown        58   0.00\n",
       "1      Casual   4175473  21.84\n",
       "2      Member  14942112  78.16"
      ]
     },
     "execution_count": 17,
     "metadata": {},
     "output_type": "execute_result"
    }
   ],
   "source": [
    "df_balanced = df1[['id', 'member_type']].groupby( 'member_type' ).count().sort_values( 'id' ).reset_index()\n",
    "df_balanced['perc%'] = 100*np.round( ( df_balanced['id'] / np.sum( df_balanced['id'] ) ), 4 )\n",
    "df_balanced"
   ]
  },
  {
   "cell_type": "markdown",
   "metadata": {
    "heading_collapsed": true,
    "hidden": true
   },
   "source": [
    "## 1.7 Descriptive Analysis"
   ]
  },
  {
   "cell_type": "markdown",
   "metadata": {
    "heading_collapsed": true,
    "hidden": true
   },
   "source": [
    "### 1.7.1 General"
   ]
  },
  {
   "cell_type": "code",
   "execution_count": 18,
   "metadata": {
    "ExecuteTime": {
     "end_time": "2020-08-27T00:36:34.158111Z",
     "start_time": "2020-08-27T00:36:33.321139Z"
    },
    "hidden": true
   },
   "outputs": [],
   "source": [
    "num_attributes = df1.select_dtypes( include=['int64', 'float64'] )\n",
    "cat_attributes = df1.select_dtypes( exclude=['int64', 'float64', 'datetime64[ns]'] )\n",
    "time_attributes = df1.select_dtypes( include=['datetime64[ns]'] )"
   ]
  },
  {
   "cell_type": "markdown",
   "metadata": {
    "heading_collapsed": true,
    "hidden": true
   },
   "source": [
    "#### 1.7.1.1 Numerical"
   ]
  },
  {
   "cell_type": "code",
   "execution_count": 19,
   "metadata": {
    "ExecuteTime": {
     "end_time": "2020-08-27T00:36:47.148739Z",
     "start_time": "2020-08-27T00:36:34.158584Z"
    },
    "hidden": true
   },
   "outputs": [
    {
     "data": {
      "text/html": [
       "<div>\n",
       "<style scoped>\n",
       "    .dataframe tbody tr th:only-of-type {\n",
       "        vertical-align: middle;\n",
       "    }\n",
       "\n",
       "    .dataframe tbody tr th {\n",
       "        vertical-align: top;\n",
       "    }\n",
       "\n",
       "    .dataframe thead th {\n",
       "        text-align: right;\n",
       "    }\n",
       "</style>\n",
       "<table border=\"1\" class=\"dataframe\">\n",
       "  <thead>\n",
       "    <tr style=\"text-align: right;\">\n",
       "      <th></th>\n",
       "      <th>attributes</th>\n",
       "      <th>min</th>\n",
       "      <th>max</th>\n",
       "      <th>range</th>\n",
       "      <th>mean</th>\n",
       "      <th>median</th>\n",
       "      <th>std</th>\n",
       "      <th>skew</th>\n",
       "      <th>kurtosis</th>\n",
       "    </tr>\n",
       "  </thead>\n",
       "  <tbody>\n",
       "    <tr>\n",
       "      <th>0</th>\n",
       "      <td>duration</td>\n",
       "      <td>60.0</td>\n",
       "      <td>86394.0</td>\n",
       "      <td>86334.0</td>\n",
       "      <td>1093.937030</td>\n",
       "      <td>673.0</td>\n",
       "      <td>2065.993636</td>\n",
       "      <td>16.465111</td>\n",
       "      <td>465.550138</td>\n",
       "    </tr>\n",
       "    <tr>\n",
       "      <th>1</th>\n",
       "      <td>start_station_number</td>\n",
       "      <td>31000.0</td>\n",
       "      <td>32225.0</td>\n",
       "      <td>1225.0</td>\n",
       "      <td>31303.112882</td>\n",
       "      <td>31241.0</td>\n",
       "      <td>205.059037</td>\n",
       "      <td>1.052848</td>\n",
       "      <td>0.744066</td>\n",
       "    </tr>\n",
       "    <tr>\n",
       "      <th>2</th>\n",
       "      <td>end_station_number</td>\n",
       "      <td>31000.0</td>\n",
       "      <td>32225.0</td>\n",
       "      <td>1225.0</td>\n",
       "      <td>31304.167477</td>\n",
       "      <td>31241.0</td>\n",
       "      <td>202.846500</td>\n",
       "      <td>1.057702</td>\n",
       "      <td>0.730085</td>\n",
       "    </tr>\n",
       "  </tbody>\n",
       "</table>\n",
       "</div>"
      ],
      "text/plain": [
       "             attributes      min      max    range          mean   median          std       skew    kurtosis\n",
       "0              duration     60.0  86394.0  86334.0   1093.937030    673.0  2065.993636  16.465111  465.550138\n",
       "1  start_station_number  31000.0  32225.0   1225.0  31303.112882  31241.0   205.059037   1.052848    0.744066\n",
       "2    end_station_number  31000.0  32225.0   1225.0  31304.167477  31241.0   202.846500   1.057702    0.730085"
      ]
     },
     "execution_count": 19,
     "metadata": {},
     "output_type": "execute_result"
    }
   ],
   "source": [
    "# Central Tendency\n",
    "ct1 = pd.DataFrame( num_attributes.apply( np.mean ) ).T\n",
    "ct2 = pd.DataFrame( num_attributes.apply( np.median ) ).T\n",
    "\n",
    "# Dispersion\n",
    "d1 = pd.DataFrame( num_attributes.apply( np.std ) ).T\n",
    "d2 = pd.DataFrame( num_attributes.apply( min ) ).T\n",
    "d3 = pd.DataFrame( num_attributes.apply( max ) ).T\n",
    "d4 = pd.DataFrame( num_attributes.apply( lambda x: x.max() - x.min() ) ).T\n",
    "d5 = pd.DataFrame( num_attributes.apply( lambda x: x.skew() ) ).T\n",
    "d6 = pd.DataFrame( num_attributes.apply( lambda x: x.kurtosis() ) ).T\n",
    "\n",
    "# Concatenar\n",
    "ct = pd.concat( [d2, d3, d4, ct1, ct2, d1, d5, d6] ).T.reset_index()\n",
    "ct.columns = ['attributes', 'min', 'max', 'range', 'mean', 'median', 'std', 'skew', 'kurtosis']\n",
    "ct"
   ]
  },
  {
   "cell_type": "markdown",
   "metadata": {
    "heading_collapsed": true,
    "hidden": true
   },
   "source": [
    "#### 1.7.1.2 Categorical"
   ]
  },
  {
   "cell_type": "code",
   "execution_count": 20,
   "metadata": {
    "ExecuteTime": {
     "end_time": "2020-08-27T00:36:56.489084Z",
     "start_time": "2020-08-27T00:36:47.149737Z"
    },
    "hidden": true
   },
   "outputs": [
    {
     "data": {
      "text/html": [
       "<div>\n",
       "<style scoped>\n",
       "    .dataframe tbody tr th:only-of-type {\n",
       "        vertical-align: middle;\n",
       "    }\n",
       "\n",
       "    .dataframe tbody tr th {\n",
       "        vertical-align: top;\n",
       "    }\n",
       "\n",
       "    .dataframe thead th {\n",
       "        text-align: right;\n",
       "    }\n",
       "</style>\n",
       "<table border=\"1\" class=\"dataframe\">\n",
       "  <thead>\n",
       "    <tr style=\"text-align: right;\">\n",
       "      <th></th>\n",
       "      <th>start_station</th>\n",
       "      <th>end_station</th>\n",
       "      <th>bike_number</th>\n",
       "      <th>member_type</th>\n",
       "    </tr>\n",
       "  </thead>\n",
       "  <tbody>\n",
       "    <tr>\n",
       "      <th>count</th>\n",
       "      <td>19117643</td>\n",
       "      <td>19117643</td>\n",
       "      <td>19117643</td>\n",
       "      <td>19117643</td>\n",
       "    </tr>\n",
       "    <tr>\n",
       "      <th>unique</th>\n",
       "      <td>488</td>\n",
       "      <td>488</td>\n",
       "      <td>4844</td>\n",
       "      <td>3</td>\n",
       "    </tr>\n",
       "    <tr>\n",
       "      <th>top</th>\n",
       "      <td>Columbus Circle / Union Station</td>\n",
       "      <td>Massachusetts Ave &amp; Dupont Circle NW</td>\n",
       "      <td>W00097</td>\n",
       "      <td>Member</td>\n",
       "    </tr>\n",
       "    <tr>\n",
       "      <th>freq</th>\n",
       "      <td>412433</td>\n",
       "      <td>439746</td>\n",
       "      <td>8358</td>\n",
       "      <td>14942112</td>\n",
       "    </tr>\n",
       "  </tbody>\n",
       "</table>\n",
       "</div>"
      ],
      "text/plain": [
       "                          start_station                           end_station bike_number member_type\n",
       "count                          19117643                              19117643    19117643    19117643\n",
       "unique                              488                                   488        4844           3\n",
       "top     Columbus Circle / Union Station  Massachusetts Ave & Dupont Circle NW      W00097      Member\n",
       "freq                             412433                                439746        8358    14942112"
      ]
     },
     "execution_count": 20,
     "metadata": {},
     "output_type": "execute_result"
    }
   ],
   "source": [
    "cat_attributes.drop( 'id', axis=1 ).describe()"
   ]
  },
  {
   "cell_type": "markdown",
   "metadata": {
    "heading_collapsed": true,
    "hidden": true
   },
   "source": [
    "### 1.7.2 Classes Oriented"
   ]
  },
  {
   "cell_type": "markdown",
   "metadata": {
    "heading_collapsed": true,
    "hidden": true
   },
   "source": [
    "#### 1.7.2.1 Numerical"
   ]
  },
  {
   "cell_type": "code",
   "execution_count": 22,
   "metadata": {
    "ExecuteTime": {
     "end_time": "2020-08-27T00:41:38.508905Z",
     "start_time": "2020-08-27T00:41:29.899883Z"
    },
    "hidden": true
   },
   "outputs": [
    {
     "data": {
      "text/html": [
       "<div>\n",
       "<style scoped>\n",
       "    .dataframe tbody tr th:only-of-type {\n",
       "        vertical-align: middle;\n",
       "    }\n",
       "\n",
       "    .dataframe tbody tr th {\n",
       "        vertical-align: top;\n",
       "    }\n",
       "\n",
       "    .dataframe thead th {\n",
       "        text-align: right;\n",
       "    }\n",
       "</style>\n",
       "<table border=\"1\" class=\"dataframe\">\n",
       "  <thead>\n",
       "    <tr style=\"text-align: right;\">\n",
       "      <th></th>\n",
       "      <th>duration_min</th>\n",
       "      <th>duration_max</th>\n",
       "      <th>duration_mean</th>\n",
       "      <th>duration_median</th>\n",
       "      <th>duration_range</th>\n",
       "      <th>duration_skew</th>\n",
       "      <th>duration_kurtosis</th>\n",
       "      <th>start_station_number_min</th>\n",
       "      <th>start_station_number_max</th>\n",
       "      <th>start_station_number_mean</th>\n",
       "      <th>start_station_number_median</th>\n",
       "      <th>start_station_number_range</th>\n",
       "      <th>start_station_number_skew</th>\n",
       "      <th>start_station_number_kurtosis</th>\n",
       "      <th>end_station_numberr_min</th>\n",
       "      <th>end_station_number_max</th>\n",
       "      <th>end_station_number_mean</th>\n",
       "      <th>end_station_number_median</th>\n",
       "      <th>end_station_number_range</th>\n",
       "      <th>end_station_number_skew</th>\n",
       "      <th>end_station_number_kurtosis</th>\n",
       "    </tr>\n",
       "    <tr>\n",
       "      <th>member_type</th>\n",
       "      <th></th>\n",
       "      <th></th>\n",
       "      <th></th>\n",
       "      <th></th>\n",
       "      <th></th>\n",
       "      <th></th>\n",
       "      <th></th>\n",
       "      <th></th>\n",
       "      <th></th>\n",
       "      <th></th>\n",
       "      <th></th>\n",
       "      <th></th>\n",
       "      <th></th>\n",
       "      <th></th>\n",
       "      <th></th>\n",
       "      <th></th>\n",
       "      <th></th>\n",
       "      <th></th>\n",
       "      <th></th>\n",
       "      <th></th>\n",
       "      <th></th>\n",
       "    </tr>\n",
       "  </thead>\n",
       "  <tbody>\n",
       "    <tr>\n",
       "      <th>Casual</th>\n",
       "      <td>60</td>\n",
       "      <td>86394</td>\n",
       "      <td>2422.380496</td>\n",
       "      <td>1454</td>\n",
       "      <td>86334</td>\n",
       "      <td>9.515771</td>\n",
       "      <td>161.433538</td>\n",
       "      <td>31000</td>\n",
       "      <td>32225</td>\n",
       "      <td>31278.031715</td>\n",
       "      <td>31247.0</td>\n",
       "      <td>1225</td>\n",
       "      <td>1.847427</td>\n",
       "      <td>4.699419</td>\n",
       "      <td>31000</td>\n",
       "      <td>32225</td>\n",
       "      <td>31277.975376</td>\n",
       "      <td>31247</td>\n",
       "      <td>1225</td>\n",
       "      <td>1.816883</td>\n",
       "      <td>4.533436</td>\n",
       "    </tr>\n",
       "    <tr>\n",
       "      <th>Member</th>\n",
       "      <td>60</td>\n",
       "      <td>86381</td>\n",
       "      <td>722.713754</td>\n",
       "      <td>568</td>\n",
       "      <td>86321</td>\n",
       "      <td>35.275772</td>\n",
       "      <td>1742.299807</td>\n",
       "      <td>31000</td>\n",
       "      <td>32225</td>\n",
       "      <td>31310.121842</td>\n",
       "      <td>31239.0</td>\n",
       "      <td>1225</td>\n",
       "      <td>0.900120</td>\n",
       "      <td>0.207868</td>\n",
       "      <td>31000</td>\n",
       "      <td>32225</td>\n",
       "      <td>31311.486860</td>\n",
       "      <td>31239</td>\n",
       "      <td>1225</td>\n",
       "      <td>0.909848</td>\n",
       "      <td>0.215187</td>\n",
       "    </tr>\n",
       "    <tr>\n",
       "      <th>Unknown</th>\n",
       "      <td>125</td>\n",
       "      <td>2477</td>\n",
       "      <td>748.172414</td>\n",
       "      <td>553</td>\n",
       "      <td>2352</td>\n",
       "      <td>1.519746</td>\n",
       "      <td>2.208551</td>\n",
       "      <td>31007</td>\n",
       "      <td>31623</td>\n",
       "      <td>31252.517241</td>\n",
       "      <td>31229.5</td>\n",
       "      <td>616</td>\n",
       "      <td>1.159526</td>\n",
       "      <td>1.226191</td>\n",
       "      <td>31002</td>\n",
       "      <td>31632</td>\n",
       "      <td>31258.689655</td>\n",
       "      <td>31221</td>\n",
       "      <td>630</td>\n",
       "      <td>0.954032</td>\n",
       "      <td>0.138627</td>\n",
       "    </tr>\n",
       "  </tbody>\n",
       "</table>\n",
       "</div>"
      ],
      "text/plain": [
       "             duration_min  duration_max  duration_mean  duration_median  duration_range  duration_skew  duration_kurtosis  start_station_number_min  start_station_number_max  start_station_number_mean  start_station_number_median  start_station_number_range  start_station_number_skew  start_station_number_kurtosis  end_station_numberr_min  end_station_number_max  end_station_number_mean  end_station_number_median  end_station_number_range  end_station_number_skew  end_station_number_kurtosis\n",
       "member_type                                                                                                                                                                                                                                                                                                                                                                                                                                                                                                     \n",
       "Casual                 60         86394    2422.380496             1454           86334       9.515771         161.433538                     31000                     32225               31278.031715                      31247.0                        1225                   1.847427                       4.699419                    31000                   32225             31277.975376                      31247                      1225                 1.816883                     4.533436\n",
       "Member                 60         86381     722.713754              568           86321      35.275772        1742.299807                     31000                     32225               31310.121842                      31239.0                        1225                   0.900120                       0.207868                    31000                   32225             31311.486860                      31239                      1225                 0.909848                     0.215187\n",
       "Unknown               125          2477     748.172414              553            2352       1.519746           2.208551                     31007                     31623               31252.517241                      31229.5                         616                   1.159526                       1.226191                    31002                   31632             31258.689655                      31221                       630                 0.954032                     0.138627"
      ]
     },
     "execution_count": 22,
     "metadata": {},
     "output_type": "execute_result"
    }
   ],
   "source": [
    "aux = df1[['duration', 'start_station_number', 'end_station_number', 'member_type']].groupby( 'member_type' ).agg( \n",
    "        duration_min      = ('duration', 'min'), \n",
    "        duration_max      = ('duration', 'max'),\n",
    "        duration_mean     = ('duration', 'mean'),\n",
    "        duration_median   = ('duration', 'median'),\n",
    "        duration_range    = ('duration', lambda x: x.max() - x.min() ),\n",
    "        duration_skew     = ('duration', lambda x: x.skew() ),\n",
    "        duration_kurtosis = ( 'duration', lambda x: x.kurtosis() ),\n",
    "        start_station_number_min    =   ('start_station_number', 'min'), \n",
    "        start_station_number_max    =   ('start_station_number', 'max'),\n",
    "        start_station_number_mean   =   ('start_station_number', 'mean'),\n",
    "        start_station_number_median =   ('start_station_number', 'median'),\n",
    "        start_station_number_range  =   ('start_station_number', lambda x: x.max() - x.min() ),\n",
    "        start_station_number_skew   =   ('start_station_number', lambda x: x.skew() ),\n",
    "        start_station_number_kurtosis = ( 'start_station_number', lambda x: x.kurtosis() ),\n",
    "        end_station_numberr_min    =   ('end_station_number', 'min'), \n",
    "        end_station_number_max    =   ('end_station_number', 'max'),\n",
    "        end_station_number_mean   =   ('end_station_number', 'mean'),\n",
    "        end_station_number_median =   ('end_station_number', 'median'),\n",
    "        end_station_number_range  =   ('end_station_number', lambda x: x.max() - x.min() ),\n",
    "        end_station_number_skew   =   ('end_station_number', lambda x: x.skew() ),\n",
    "        end_station_number_kurtosis = ( 'end_station_number', lambda x: x.kurtosis() ) )\n",
    "\n",
    "# show table\n",
    "aux"
   ]
  },
  {
   "cell_type": "markdown",
   "metadata": {
    "heading_collapsed": true,
    "hidden": true
   },
   "source": [
    "#### 1.7.2.2 Categorical"
   ]
  },
  {
   "cell_type": "code",
   "execution_count": 23,
   "metadata": {
    "ExecuteTime": {
     "end_time": "2020-08-27T00:43:10.365192Z",
     "start_time": "2020-08-27T00:42:58.050374Z"
    },
    "hidden": true
   },
   "outputs": [
    {
     "data": {
      "text/html": [
       "<div>\n",
       "<style scoped>\n",
       "    .dataframe tbody tr th:only-of-type {\n",
       "        vertical-align: middle;\n",
       "    }\n",
       "\n",
       "    .dataframe tbody tr th {\n",
       "        vertical-align: top;\n",
       "    }\n",
       "\n",
       "    .dataframe thead tr th {\n",
       "        text-align: left;\n",
       "    }\n",
       "\n",
       "    .dataframe thead tr:last-of-type th {\n",
       "        text-align: right;\n",
       "    }\n",
       "</style>\n",
       "<table border=\"1\" class=\"dataframe\">\n",
       "  <thead>\n",
       "    <tr>\n",
       "      <th></th>\n",
       "      <th colspan=\"4\" halign=\"left\">start_station</th>\n",
       "      <th colspan=\"4\" halign=\"left\">end_station</th>\n",
       "      <th colspan=\"4\" halign=\"left\">bike_number</th>\n",
       "    </tr>\n",
       "    <tr>\n",
       "      <th></th>\n",
       "      <th>count</th>\n",
       "      <th>unique</th>\n",
       "      <th>top</th>\n",
       "      <th>freq</th>\n",
       "      <th>count</th>\n",
       "      <th>unique</th>\n",
       "      <th>top</th>\n",
       "      <th>freq</th>\n",
       "      <th>count</th>\n",
       "      <th>unique</th>\n",
       "      <th>top</th>\n",
       "      <th>freq</th>\n",
       "    </tr>\n",
       "    <tr>\n",
       "      <th>member_type</th>\n",
       "      <th></th>\n",
       "      <th></th>\n",
       "      <th></th>\n",
       "      <th></th>\n",
       "      <th></th>\n",
       "      <th></th>\n",
       "      <th></th>\n",
       "      <th></th>\n",
       "      <th></th>\n",
       "      <th></th>\n",
       "      <th></th>\n",
       "      <th></th>\n",
       "    </tr>\n",
       "  </thead>\n",
       "  <tbody>\n",
       "    <tr>\n",
       "      <th>Casual</th>\n",
       "      <td>4175473</td>\n",
       "      <td>488</td>\n",
       "      <td>Lincoln Memorial</td>\n",
       "      <td>244118</td>\n",
       "      <td>4175473</td>\n",
       "      <td>488</td>\n",
       "      <td>Lincoln Memorial</td>\n",
       "      <td>239676</td>\n",
       "      <td>4175473</td>\n",
       "      <td>4838</td>\n",
       "      <td>W00195</td>\n",
       "      <td>1803</td>\n",
       "    </tr>\n",
       "    <tr>\n",
       "      <th>Member</th>\n",
       "      <td>14942112</td>\n",
       "      <td>488</td>\n",
       "      <td>Columbus Circle / Union Station</td>\n",
       "      <td>363247</td>\n",
       "      <td>14942112</td>\n",
       "      <td>488</td>\n",
       "      <td>Columbus Circle / Union Station</td>\n",
       "      <td>364978</td>\n",
       "      <td>14942112</td>\n",
       "      <td>4843</td>\n",
       "      <td>W00097</td>\n",
       "      <td>6565</td>\n",
       "    </tr>\n",
       "    <tr>\n",
       "      <th>Unknown</th>\n",
       "      <td>58</td>\n",
       "      <td>40</td>\n",
       "      <td>Columbus Circle / Union Station</td>\n",
       "      <td>4</td>\n",
       "      <td>58</td>\n",
       "      <td>45</td>\n",
       "      <td>10th St &amp; Constitution Ave NW</td>\n",
       "      <td>3</td>\n",
       "      <td>58</td>\n",
       "      <td>57</td>\n",
       "      <td>W00456</td>\n",
       "      <td>2</td>\n",
       "    </tr>\n",
       "  </tbody>\n",
       "</table>\n",
       "</div>"
      ],
      "text/plain": [
       "            start_station                                                 end_station                                                 bike_number                     \n",
       "                    count unique                              top    freq       count unique                              top    freq       count unique     top  freq\n",
       "member_type                                                                                                                                                           \n",
       "Casual            4175473    488                 Lincoln Memorial  244118     4175473    488                 Lincoln Memorial  239676     4175473   4838  W00195  1803\n",
       "Member           14942112    488  Columbus Circle / Union Station  363247    14942112    488  Columbus Circle / Union Station  364978    14942112   4843  W00097  6565\n",
       "Unknown                58     40  Columbus Circle / Union Station       4          58     45    10th St & Constitution Ave NW       3          58     57  W00456     2"
      ]
     },
     "execution_count": 23,
     "metadata": {},
     "output_type": "execute_result"
    }
   ],
   "source": [
    "cat_attributes.drop( 'id', axis=1 ).groupby( 'member_type' ).describe()"
   ]
  },
  {
   "cell_type": "markdown",
   "metadata": {
    "heading_collapsed": true,
    "hidden": true
   },
   "source": [
    "### 1.7.3 Predictors and Class Correlation"
   ]
  },
  {
   "cell_type": "code",
   "execution_count": 28,
   "metadata": {
    "ExecuteTime": {
     "end_time": "2020-08-27T00:47:40.745023Z",
     "start_time": "2020-08-27T00:46:08.656311Z"
    },
    "hidden": true
   },
   "outputs": [
    {
     "data": {
      "text/plain": [
       "<matplotlib.axes._subplots.AxesSubplot at 0x24de688a988>"
      ]
     },
     "execution_count": 28,
     "metadata": {},
     "output_type": "execute_result"
    },
    {
     "data": {
      "image/png": "[encoded data removed]",
      "text/plain": [
       "<Figure size 1800x864 with 2 Axes>"
      ]
     },
     "metadata": {},
     "output_type": "display_data"
    }
   ],
   "source": [
    "# list of categorical attributes\n",
    "cat_attributes_list = cat_attributes.drop( 'id', axis=1 ).columns.tolist()\n",
    "\n",
    "corr_dict = {}\n",
    "for i in range( len( cat_attributes_list ) ):\n",
    "    corr_list = []\n",
    "    for j in range( len( cat_attributes_list ) ):\n",
    "        #print( 'Ref: {} - Feat: {}'.format( cat_attributes_list[i], cat_attributes_list[j] ) )\n",
    "        ref = cat_attributes_list[i]\n",
    "        feat = cat_attributes_list[j]\n",
    "        \n",
    "        # correlation between two categorical variables\n",
    "        corr = cramer_v( cat_attributes[ ref ], cat_attributes[ feat ] )\n",
    "        \n",
    "        # append to a list\n",
    "        corr_list.append( corr )\n",
    "        \n",
    "    # append the correlation list for each ref attributes\n",
    "    corr_dict[ref] = corr_list\n",
    "\n",
    "d = pd.DataFrame( corr_dict )\n",
    "d = d.set_index( d.columns )\n",
    "sns.heatmap( d, annot=True )"
   ]
  },
  {
   "cell_type": "markdown",
   "metadata": {},
   "source": [
    "# 2.0 FEATURE ENGINEERING"
   ]
  },
  {
   "cell_type": "code",
   "execution_count": 29,
   "metadata": {
    "ExecuteTime": {
     "end_time": "2020-08-27T00:48:09.202407Z",
     "start_time": "2020-08-27T00:48:08.465182Z"
    }
   },
   "outputs": [],
   "source": [
    "df2 = df1.copy()"
   ]
  },
  {
   "cell_type": "code",
   "execution_count": null,
   "metadata": {},
   "outputs": [],
   "source": []
  }
 ],
 "metadata": {
  "kernelspec": {
   "display_name": "Python 3",
   "language": "python",
   "name": "python3"
  },
  "language_info": {
   "codemirror_mode": {
    "name": "ipython",
    "version": 3
   },
   "file_extension": ".py",
   "mimetype": "text/x-python",
   "name": "python",
   "nbconvert_exporter": "python",
   "pygments_lexer": "ipython3",
   "version": "3.7.6"
  }
 },
 "nbformat": 4,
 "nbformat_minor": 4
}
